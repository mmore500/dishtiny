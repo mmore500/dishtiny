{
 "cells": [
  {
   "cell_type": "code",
   "execution_count": null,
   "metadata": {},
   "outputs": [],
   "source": [
    "import boto3\n",
    "import botocore\n",
    "import functools\n",
    "from IPython.core.display import display, HTML\n",
    "from iterdub import iterdub as ib\n",
    "from iterpop import iterpop as ip\n",
    "import itertools as it\n",
    "import json\n",
    "import math\n",
    "import matplotlib\n",
    "import matplotlib.pyplot as plt\n",
    "import numpy as np\n",
    "import pandas as pd\n",
    "from pandas.util import hash_pandas_object\n",
    "import seaborn as sns\n",
    "from teeplot import teeplot as tp\n"
   ]
  },
  {
   "cell_type": "code",
   "execution_count": null,
   "metadata": {},
   "outputs": [],
   "source": [
    "from dishpylib.pyanalysis import calc_loglikelihoods_by_num_sets\n",
    "from dishpylib.pyanalysis import calc_loglikelihoods_over_set_sizes\n",
    "from dishpylib.pyanalysis import count_hands_with_k_or_more_sets\n",
    "from dishpylib.pyanalysis import count_hands_without_k_or_more_sets\n",
    "from dishpylib.pyanalysis import estimate_interpolation_complexity\n",
    "from dishpylib.pyhelpers import get_control_t_distns\n",
    "from dishpylib.pyhelpers import make_outattr_metadata\n",
    "from dishpylib.pyhelpers import NumpyEncoder\n",
    "from dishpylib.pyhelpers import preprocess_competition_fitnesses\n",
    "from dishpylib.pyhelpers import print_runtime\n"
   ]
  },
  {
   "cell_type": "code",
   "execution_count": null,
   "metadata": {},
   "outputs": [],
   "source": [
    "print_runtime()\n"
   ]
  },
  {
   "cell_type": "markdown",
   "metadata": {},
   "source": [
    "# get control data\n"
   ]
  },
  {
   "cell_type": "code",
   "execution_count": null,
   "metadata": {},
   "outputs": [],
   "source": [
    "control_fits_df = get_control_t_distns('prq49', 16, 40)\n"
   ]
  },
  {
   "cell_type": "markdown",
   "metadata": {},
   "source": [
    "# get data\n"
   ]
  },
  {
   "cell_type": "code",
   "execution_count": null,
   "metadata": {},
   "outputs": [],
   "source": [
    "s3_handle = boto3.resource(\n",
    "    's3',\n",
    "    region_name=\"us-east-2\",\n",
    "    config=botocore.config.Config(\n",
    "        signature_version=botocore.UNSIGNED,\n",
    "    ),\n",
    ")\n",
    "bucket_handle = s3_handle.Bucket('prq49')\n",
    "\n",
    "series_profiles, = bucket_handle.objects.filter(\n",
    "    Prefix=f'endeavor=16/noncritical-phenotypeneutral-nopinterpolation-competitions/stage=6+what=collated/stint=40',\n",
    ")\n"
   ]
  },
  {
   "cell_type": "code",
   "execution_count": null,
   "metadata": {},
   "outputs": [],
   "source": [
    "df = pd.read_csv(\n",
    "    f's3://prq49/{series_profiles.key}',\n",
    "    compression='xz',\n",
    ")\n",
    "dfdigest = '{:x}'.format( hash_pandas_object( df ).sum() )\n",
    "dfdigest\n"
   ]
  },
  {
   "cell_type": "markdown",
   "metadata": {},
   "source": [
    "# preprocess data\n"
   ]
  },
  {
   "cell_type": "code",
   "execution_count": null,
   "metadata": {},
   "outputs": [],
   "source": [
    "df = preprocess_competition_fitnesses(df, control_fits_df)\n"
   ]
  },
  {
   "cell_type": "markdown",
   "metadata": {},
   "source": [
    "# summarize data and model fitting\n"
   ]
  },
  {
   "cell_type": "code",
   "execution_count": null,
   "metadata": {},
   "outputs": [],
   "source": [
    "def log_lineplot(*args, **kwargs):\n",
    "    sns.lineplot(*args, **kwargs)\n",
    "    plt.yscale('log')\n",
    "    plt.autoscale()\n",
    "\n",
    "def lineplot_scatterplot(*args, **kwargs):\n",
    "    sns.lineplot(\n",
    "        *args,\n",
    "        **{k : v for k, v in kwargs.items() if k != 'hue'},\n",
    "        color='gray',\n",
    "        zorder=1,\n",
    "    )\n",
    "    sns.scatterplot(\n",
    "        *args,\n",
    "        **kwargs,\n",
    "        palette={\n",
    "            'Significantly Advantageous' : sns.color_palette()[2],\n",
    "            'Neutral' : sns.color_palette()[0],\n",
    "            'Significantly Deleterious' : sns.color_palette()[1],\n",
    "        },\n",
    "        zorder=2,\n",
    "    )\n",
    "    plt.legend(\n",
    "        handles=[\n",
    "            matplotlib.patches.Patch(\n",
    "                color=sns.color_palette()[2],\n",
    "                label='Significantly Advantageous',\n",
    "            ),\n",
    "            matplotlib.patches.Patch(\n",
    "                color=sns.color_palette()[0],\n",
    "                label='Neutral',\n",
    "            ),\n",
    "            matplotlib.patches.Patch(\n",
    "                color=sns.color_palette()[1],\n",
    "                label='Significantly Deleterious',\n",
    "            ),\n",
    "        ],\n",
    "    )\n"
   ]
  },
  {
   "cell_type": "code",
   "execution_count": null,
   "metadata": {},
   "outputs": [],
   "source": [
    "# display(HTML(\"<style>div.output_scroll { height: 1000em; }</style>\"))\n",
    "\n",
    "for series in df['genome series'].unique():\n",
    "\n",
    "    display(HTML(f'<h1>series {series}</h1>'))\n",
    "\n",
    "\n",
    "    display(HTML('<h2>interpolation competition</h2>'))\n",
    "    tp.tee(\n",
    "        lineplot_scatterplot,\n",
    "        x='genome nop_interpolation_num_nopped',\n",
    "        y='Fitness Differential',\n",
    "        hue='Relative Fitness',\n",
    "        data=df[df['genome series'] == series].dropna(subset=['genome nop_interpolation_num_nopped']),\n",
    "        teeplot_outattrs={\n",
    "            **{\n",
    "                'bucket' : ib.dub( df['Treatment bucket'] ),\n",
    "                'endeavor' : ib.dub( df['Competition Endeavor'] ),\n",
    "                'transform' : 'filter-Stint-40',\n",
    "                '_dfdigest' : dfdigest,\n",
    "            },\n",
    "            **make_outattr_metadata(),\n",
    "        },\n",
    "    )\n",
    "    plt.show()\n",
    "\n",
    "\n",
    "\n",
    "    display(HTML('<h2>num_sets fitting</h2>'))\n",
    "    tp.tee(\n",
    "        log_lineplot,\n",
    "        x='num_sets',\n",
    "        y='likelihood',\n",
    "        hue='set_size',\n",
    "        data=calc_loglikelihoods_over_set_sizes(\n",
    "            series=series,\n",
    "            interpolation_competitions_df=df,\n",
    "        ).astype({\n",
    "            # so seaborn will color as categorical, not quantitative\n",
    "            'set_size': 'str',\n",
    "        }),\n",
    "        teeplot_outattrs={\n",
    "            **{\n",
    "                'bucket' : ib.dub( df['Treatment bucket'] ),\n",
    "                'endeavor' : ib.dub( df['Competition Endeavor'] ),\n",
    "                'transform' : 'filter-Stint-40',\n",
    "                '_dfdigest' : dfdigest,\n",
    "            },\n",
    "            **make_outattr_metadata(),\n",
    "        },\n",
    "    )\n",
    "    plt.show()\n",
    "\n",
    "    display(HTML('<h2>model fit results</h2>'))\n",
    "    print(json.dumps(\n",
    "        estimate_interpolation_complexity(\n",
    "            series=series,\n",
    "            interpolation_competitions_df=df,\n",
    "        ),\n",
    "        sort_keys=True,\n",
    "        indent=4,\n",
    "        cls=NumpyEncoder,\n",
    "    ))\n"
   ]
  }
 ],
 "metadata": {
  "kernelspec": {
   "display_name": "Python 3",
   "language": "python",
   "name": "python3"
  },
  "language_info": {
   "codemirror_mode": {
    "name": "ipython",
    "version": 3
   },
   "file_extension": ".py",
   "mimetype": "text/x-python",
   "name": "python",
   "nbconvert_exporter": "python",
   "pygments_lexer": "ipython3",
   "version": "3.8.5"
  }
 },
 "nbformat": 4,
 "nbformat_minor": 4
}

{
 "cells": [
  {
   "cell_type": "code",
   "execution_count": null,
   "metadata": {},
   "outputs": [],
   "source": [
    "import boto3\n",
    "import botocore\n",
    "from iterdub import iterdub as ib\n",
    "from iterpop import iterpop as ip\n",
    "import itertools as it\n",
    "from matplotlib import pyplot as plt\n",
    "import pandas as pd\n",
    "from pandas.util import hash_pandas_object\n",
    "import seaborn as sns\n",
    "from teeplot import teeplot as tp\n"
   ]
  },
  {
   "cell_type": "code",
   "execution_count": null,
   "metadata": {},
   "outputs": [],
   "source": [
    "from dishpylib.pyhelpers import make_outattr_metadata\n",
    "from dishpylib.pyhelpers import print_runtime\n"
   ]
  },
  {
   "cell_type": "code",
   "execution_count": null,
   "metadata": {},
   "outputs": [],
   "source": [
    "print_runtime()\n"
   ]
  },
  {
   "cell_type": "markdown",
   "metadata": {},
   "source": [
    "# get data\n"
   ]
  },
  {
   "cell_type": "code",
   "execution_count": null,
   "metadata": {},
   "outputs": [],
   "source": [
    "s3_handle = boto3.resource(\n",
    "    's3',\n",
    "    region_name=\"us-east-2\",\n",
    "    config=botocore.config.Config(\n",
    "        signature_version=botocore.UNSIGNED,\n",
    "    ),\n",
    ")\n",
    "bucket_handle = s3_handle.Bucket('prq49')\n",
    "\n",
    "series_profiles, = bucket_handle.objects.filter(\n",
    "    Prefix=f'endeavor=16/thread-profiles/stage=8+what=elaborated/',\n",
    ")\n"
   ]
  },
  {
   "cell_type": "code",
   "execution_count": null,
   "metadata": {},
   "outputs": [],
   "source": [
    "df = pd.read_csv(\n",
    "    f's3://prq49/{series_profiles.key}',\n",
    "    compression='xz',\n",
    ")\n",
    "dfdigest = '{:x}'.format(hash_pandas_object( df ).sum())\n",
    "dfdigest\n"
   ]
  },
  {
   "cell_type": "code",
   "execution_count": null,
   "metadata": {},
   "outputs": [],
   "source": [
    "for stint in df['Stint'].unique():\n",
    "    exec(f'df{stint} = df[ df[\"Stint\"] == {stint} ]')\n"
   ]
  },
  {
   "cell_type": "code",
   "execution_count": null,
   "metadata": {},
   "outputs": [],
   "source": [
    "df['Normalized Elapsed Updates'] = df['Update'] / df.groupby([\n",
    "    'Series',\n",
    "    'Stint',\n",
    "])['Update'].transform('mean')\n",
    "\n",
    "df['Elapsed Update Std'] = df.groupby([\n",
    "    'Series',\n",
    "    'Stint',\n",
    "])['Update'].transform('std') / df.groupby([\n",
    "    'Series',\n",
    "    'Stint',\n",
    "])['Update'].transform('mean')\n",
    "\n",
    "df['Elapsed Update Span'] = (df.groupby([\n",
    "    'Series',\n",
    "    'Stint',\n",
    "])['Update'].transform('max') - df.groupby([\n",
    "    'Series',\n",
    "    'Stint',\n",
    "])['Update'].transform('min')) / df.groupby([\n",
    "    'Series',\n",
    "    'Stint',\n",
    "])['Update'].transform('mean')\n"
   ]
  },
  {
   "cell_type": "markdown",
   "metadata": {},
   "source": [
    "# case study series 16005\n"
   ]
  },
  {
   "cell_type": "code",
   "execution_count": null,
   "metadata": {},
   "outputs": [],
   "source": [
    "dfx = df[ df['Series'] == 16005 ]\n"
   ]
  },
  {
   "cell_type": "code",
   "execution_count": null,
   "metadata": {},
   "outputs": [],
   "source": [
    "tp.tee(\n",
    "    sns.lineplot,\n",
    "    data=dfx,\n",
    "    x='Stint',\n",
    "    y='Elapsed Update Std',\n",
    "    teeplot_outattrs={\n",
    "        **{\n",
    "            'bucket' : ib.dub( df['Bucket'] ),\n",
    "            'endeavor' : ib.dub( df['Endeavor'].astype(int) ),\n",
    "            'transform' : 'filter-Series-16005',\n",
    "            '_dfdigest' : dfdigest,\n",
    "        },\n",
    "        **make_outattr_metadata()\n",
    "    },\n",
    ")\n"
   ]
  },
  {
   "cell_type": "code",
   "execution_count": null,
   "metadata": {},
   "outputs": [],
   "source": [
    "tp.tee(\n",
    "    sns.lineplot,\n",
    "    data=dfx,\n",
    "    x='Stint',\n",
    "    y='Elapsed Update Span',\n",
    "    teeplot_outattrs={\n",
    "        **{\n",
    "            'bucket' : ib.dub( df['Bucket'] ),\n",
    "            'endeavor' : ib.dub( df['Endeavor'].astype(int) ),\n",
    "            'transform' : 'filter-Series-16005',\n",
    "            '_dfdigest' : dfdigest,\n",
    "        },\n",
    "        **make_outattr_metadata()\n",
    "    },\n",
    ")\n"
   ]
  },
  {
   "cell_type": "code",
   "execution_count": null,
   "metadata": {},
   "outputs": [],
   "source": [
    "def boxstrip(*args, **kwargs):\n",
    "\n",
    "    sns.boxplot(\n",
    "        *args,\n",
    "        **kwargs,\n",
    "        whis=(0, 100),\n",
    "    )\n",
    "    sns.scatterplot(\n",
    "        *args,\n",
    "        **{\n",
    "            k : v\n",
    "            for k, v in kwargs.items()\n",
    "            if k != 'hue'\n",
    "        },\n",
    "        marker='_',\n",
    "        zorder=100,\n",
    "        linewidth=3,\n",
    "        color='white',\n",
    "    )\n",
    "    sns.scatterplot(\n",
    "        *args,\n",
    "        **kwargs,\n",
    "        marker='_',\n",
    "        zorder=100,\n",
    "        linewidth=2,\n",
    "    )\n",
    "\n",
    "\n",
    "    plt.gca().get_legend().remove()\n",
    "    for idx, label in enumerate(plt.gca().xaxis.get_ticklabels()):\n",
    "        if idx % 10: label.set_visible(False)\n",
    "\n",
    "tp.tee(\n",
    "    boxstrip,\n",
    "    data=dfx,\n",
    "    x='Stint',\n",
    "    y='Normalized Elapsed Updates',\n",
    "    palette=list(it.islice(\n",
    "        it.cycle(['r','g','b']),\n",
    "        len(dfx['Stint'].unique())\n",
    "    )),\n",
    "    hue='Stint',\n",
    "    teeplot_outattrs={\n",
    "        **{\n",
    "            'bucket' : ib.dub( df['Bucket'] ),\n",
    "            'endeavor' : ib.dub( df['Endeavor'].astype(int) ),\n",
    "            'transform' : 'filter-Series-16005',\n",
    "            '_dfdigest' : dfdigest,\n",
    "        },\n",
    "        **make_outattr_metadata()\n",
    "    },\n",
    "\n",
    ")\n"
   ]
  },
  {
   "cell_type": "code",
   "execution_count": null,
   "metadata": {},
   "outputs": [],
   "source": [
    "print('mean update std', dfx['Elapsed Update Std'].mean())\n",
    "print('mean update span', dfx['Elapsed Update Span'].mean())\n"
   ]
  },
  {
   "cell_type": "code",
   "execution_count": null,
   "metadata": {},
   "outputs": [],
   "source": [
    "max_update_std = dfx['Elapsed Update Std'].max()\n",
    "print(\n",
    "    'max update std', max_update_std,\n",
    "    '@ Stint', ip.pophomogeneous(\n",
    "        dfx[ dfx['Elapsed Update Std'] == max_update_std ]['Stint']\n",
    "    )\n",
    ")\n",
    "\n",
    "max_update_span = dfx['Elapsed Update Span'].max()\n",
    "print(\n",
    "    'max update span', max_update_span,\n",
    "    '@ Stint', ip.pophomogeneous(\n",
    "        dfx[ dfx['Elapsed Update Span'] == max_update_span ]['Stint']\n",
    "    )\n",
    ")\n"
   ]
  }
 ],
 "metadata": {
  "kernelspec": {
   "display_name": "Python 3",
   "language": "python",
   "name": "python3"
  },
  "language_info": {
   "codemirror_mode": {
    "name": "ipython",
    "version": 3
   },
   "file_extension": ".py",
   "mimetype": "text/x-python",
   "name": "python",
   "nbconvert_exporter": "python",
   "pygments_lexer": "ipython3",
   "version": "3.8.5"
  }
 },
 "nbformat": 4,
 "nbformat_minor": 4
}

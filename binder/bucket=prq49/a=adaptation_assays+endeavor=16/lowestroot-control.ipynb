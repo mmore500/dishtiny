{
 "cells": [
  {
   "cell_type": "code",
   "execution_count": null,
   "id": "830adf14",
   "metadata": {},
   "outputs": [],
   "source": [
    "from io import StringIO\n",
    "\n",
    "import matplotlib\n",
    "from matplotlib import pyplot as plt\n",
    "from matplotlib.colors import LinearSegmentedColormap as mpl_LinearSegmentedColormap\n",
    "import numpy as np\n",
    "import pandas as pd\n",
    "import seaborn as sns\n"
   ]
  },
  {
   "cell_type": "code",
   "execution_count": null,
   "id": "16a417b5",
   "metadata": {},
   "outputs": [],
   "source": [
    "from dishpylib.pyhelpers import get_env_context\n",
    "from dishpylib.pyhelpers import get_git_revision_hash\n",
    "from dishpylib.pyhelpers import make_timestamp\n",
    "from dishpylib.pyhelpers import print_runtime\n"
   ]
  },
  {
   "cell_type": "code",
   "execution_count": null,
   "id": "1cce2c87",
   "metadata": {},
   "outputs": [],
   "source": [
    "print_runtime()\n"
   ]
  },
  {
   "cell_type": "code",
   "execution_count": null,
   "id": "2c3e92cb",
   "metadata": {},
   "outputs": [],
   "source": [
    "dfs = []\n",
    "for setup in (\n",
    "    \"control-competitions-dosecorrected-withbioticbackground-withmut\",\n",
    "    \"control-competitions-dosecorrected-withfuturebioticbackground-withmut\",\n",
    "    \"control-competitions-nobioticbackground-withmut\",\n",
    "    \"control-competitions-dosecorrected-nodiversitymaintenance-withbioticbackground-withmut\",\n",
    "    \"control-competitions-dosecorrected-nodiversitymaintenance-withfuturebioticbackground-withmut\",\n",
    "    \"control-battles-dosecorrected-withbioticbackground-withmut\",\n",
    "    \"control-battles-dosecorrected-withfuturebioticbackground-withmut\",\n",
    "    \"control-battles-dosecorrected-nodiversitymaintenance-withbioticbackground-withmut\",\n",
    "    \"control-battles-dosecorrected-nodiversitymaintenance-withfuturebioticbackground-withmut\",\n",
    "):    \n",
    "    print(setup)\n",
    "    df = pd.read_csv(\n",
    "        f\"https://prq49.s3.us-east-2.amazonaws.com/endeavor%3D16/{setup}/stage%3D2%2Bwhat%3Dcollated/a%3Dconcat%2Bhow%3Dmanual%2Bext%3D.csv\"    \n",
    "    )\n",
    "    df[\"setup\"] = setup\n",
    "    if \"Fitness Differential Focal\" not in df:\n",
    "        df[\"Fitness Differential Focal\"] = df[\"Fitness Differential\"]\n",
    "    if \"Focal Prevalence\" not in df:\n",
    "        df[\"Focal Prevalence\"] = df[\"Prevalence\"]\n",
    "    if \"Focal Abundance\" not in df:\n",
    "        df[\"Focal Abundance\"] = df[\"Abundance\"]\n",
    "\n",
    "    df['Positive Fitness Differential Focal'] = df['Focal Prevalence'] > 0.5\n",
    "\n",
    "    dfs.append(df)\n",
    "    \n",
    "df = pd.concat(dfs, ignore_index=True)\n"
   ]
  },
  {
   "cell_type": "code",
   "execution_count": null,
   "id": "49a3ddd9",
   "metadata": {},
   "outputs": [],
   "source": [
    "print(len(df))\n",
    "print(len(df[df['Root ID'] == 1]))\n",
    "digest = '{:x}'.format(pd.util.hash_pandas_object( df ).sum())\n",
    "digest\n"
   ]
  },
  {
   "cell_type": "code",
   "execution_count": null,
   "id": "f5a6fe1b",
   "metadata": {},
   "outputs": [],
   "source": [
    "def barplot(*args, **kwargs):\n",
    "    ax = sns.barplot(\n",
    "        *args,\n",
    "        **kwargs,\n",
    "    )\n",
    "    sns.move_legend(ax, \"upper left\", bbox_to_anchor=(1, 1))\n",
    "\n",
    "    plt.gcf().set_size_inches(20, 5)\n",
    "\n",
    "\n",
    "tp.tee(\n",
    "    barplot,\n",
    "    data=df[df['Root ID'] == 1],\n",
    "    x='Competition Stint',\n",
    "    y='Fitness Differential Focal',\n",
    "    hue='setup',\n",
    "    ci=95,    \n",
    ")    \n",
    "    "
   ]
  },
  {
   "cell_type": "code",
   "execution_count": null,
   "id": "2b49bac5",
   "metadata": {},
   "outputs": [],
   "source": [
    "def boxplot(*args, **kwargs):\n",
    "    ax = sns.boxplot(\n",
    "        *args,\n",
    "        **kwargs,\n",
    "    )\n",
    "    sns.move_legend(ax, \"upper left\", bbox_to_anchor=(1, 1))\n",
    "\n",
    "    plt.axhline(0.5)\n",
    "    plt.gcf().set_size_inches(20, 5)\n",
    "\n",
    "tp.tee(\n",
    "    boxplot,\n",
    "    data=df[df['Root ID'] == 1],\n",
    "    x='Competition Stint',\n",
    "    y='Focal Prevalence',\n",
    "    hue='setup',\n",
    ")\n"
   ]
  }
 ],
 "metadata": {
  "kernelspec": {
   "display_name": "Python 3",
   "language": "python",
   "name": "python3"
  },
  "language_info": {
   "codemirror_mode": {
    "name": "ipython",
    "version": 3
   },
   "file_extension": ".py",
   "mimetype": "text/x-python",
   "name": "python",
   "nbconvert_exporter": "python",
   "pygments_lexer": "ipython3",
   "version": "3.8.10"
  }
 },
 "nbformat": 4,
 "nbformat_minor": 5
}

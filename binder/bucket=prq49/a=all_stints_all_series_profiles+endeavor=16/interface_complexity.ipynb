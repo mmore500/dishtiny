{
 "cells": [
  {
   "cell_type": "code",
   "execution_count": null,
   "metadata": {},
   "outputs": [],
   "source": [
    "import boto3\n",
    "import botocore\n",
    "from iterdub import iterdub as ib\n",
    "import matplotlib.pyplot as plt\n",
    "import pandas as pd\n",
    "from pandas.util import hash_pandas_object\n",
    "from scipy import stats\n",
    "import seaborn as sns"
   ]
  },
  {
   "cell_type": "code",
   "execution_count": null,
   "metadata": {},
   "outputs": [],
   "source": [
    "from dishpylib.pyanalysis import tee_plot"
   ]
  },
  {
   "cell_type": "markdown",
   "metadata": {},
   "source": [
    "# get data"
   ]
  },
  {
   "cell_type": "code",
   "execution_count": null,
   "metadata": {},
   "outputs": [],
   "source": [
    "s3_handle = boto3.resource(\n",
    "    's3',\n",
    "    region_name=\"us-east-2\",\n",
    "    config=botocore.config.Config(\n",
    "        signature_version=botocore.UNSIGNED,\n",
    "    ),\n",
    ")\n",
    "bucket_handle = s3_handle.Bucket('prq49')\n",
    "\n",
    "series_profiles, = bucket_handle.objects.filter(\n",
    "    Prefix=f'endeavor=16/stage=8+what=elaborated/',\n",
    ")"
   ]
  },
  {
   "cell_type": "code",
   "execution_count": null,
   "metadata": {},
   "outputs": [],
   "source": [
    "df = pd.read_csv(\n",
    "    f's3://prq49/{series_profiles.key}',\n",
    "    compression='xz',\n",
    ")\n",
    "dfdigest = '{:x}'.format( hash_pandas_object( df ).sum() )\n",
    "dfdigest"
   ]
  },
  {
   "cell_type": "code",
   "execution_count": null,
   "metadata": {},
   "outputs": [],
   "source": [
    "for stint in df['Stint'].unique():\n",
    "    exec(f'df{stint} = df[ df[\"Stint\"] == {stint} ]')"
   ]
  },
  {
   "cell_type": "markdown",
   "metadata": {},
   "source": [
    "# how does state interface complexity change over time?"
   ]
  },
  {
   "cell_type": "code",
   "execution_count": null,
   "metadata": {},
   "outputs": [],
   "source": [
    "tee_plot(\n",
    "    sns.lineplot,\n",
    "    data=df,\n",
    "    x='Stint',\n",
    "    y='Num Less Fit Under State Perturbation',\n",
    "    hue='Series',\n",
    "    legend=False,\n",
    "    outattrs={\n",
    "        'bucket' : ib.dub( df['Treatment bucket'] ),\n",
    "        'endeavor' : ib.dub( df['Endeavor'] ),\n",
    "        'transform' : 'identity',    \n",
    "        '_dfdigest' : dfdigest,\n",
    "    },\n",
    ")"
   ]
  },
  {
   "cell_type": "code",
   "execution_count": null,
   "metadata": {},
   "outputs": [],
   "source": [
    "def swarmplot_boxplot(*args, **kwargs):\n",
    "    sns.swarmplot(\n",
    "        *args,\n",
    "        **kwargs,\n",
    "        edgecolor='w',\n",
    "        linewidth=0.5,\n",
    "        s=4,\n",
    "    )\n",
    "    sns.boxplot(\n",
    "        *args,\n",
    "        **kwargs,\n",
    "    )\n",
    "\n",
    "tee_plot(\n",
    "    swarmplot_boxplot,\n",
    "    data=df,\n",
    "    x='Stint',\n",
    "    y='Num Less Fit Under State Perturbation',\n",
    "    outattrs={\n",
    "        'bucket' : ib.dub( df['Treatment bucket'] ),\n",
    "        'endeavor' : ib.dub( df['Endeavor'] ),\n",
    "        'transform' : 'identity',\n",
    "        '_dfdigest' : dfdigest,\n",
    "    },\n",
    ")"
   ]
  },
  {
   "cell_type": "markdown",
   "metadata": {},
   "source": [
    "# how does intra messaging complexity change over time?"
   ]
  },
  {
   "cell_type": "code",
   "execution_count": null,
   "metadata": {},
   "outputs": [],
   "source": [
    "tee_plot(\n",
    "    sns.lineplot,\n",
    "    data=df,\n",
    "    x='Stint',\n",
    "    y='Num Less Fit Under Intra Self-Send @ Filter Mod 20',\n",
    "    hue='Series',\n",
    "    legend=False,\n",
    "    outattrs={\n",
    "        'bucket' : ib.dub( df['Treatment bucket'] ),\n",
    "        'endeavor' : ib.dub( df['Endeavor'] ),\n",
    "        'transform' : 'identity',    \n",
    "        '_dfdigest' : dfdigest,\n",
    "    },\n",
    ")"
   ]
  },
  {
   "cell_type": "code",
   "execution_count": null,
   "metadata": {},
   "outputs": [],
   "source": [
    "def swarmplot_boxplot(*args, **kwargs):\n",
    "    sns.swarmplot(\n",
    "        *args,\n",
    "        **kwargs,\n",
    "        edgecolor='w',\n",
    "        linewidth=0.5,\n",
    "        s=4,\n",
    "    )\n",
    "    sns.boxplot(\n",
    "        *args,\n",
    "        **kwargs,\n",
    "    )\n",
    "\n",
    "tee_plot(\n",
    "    swarmplot_boxplot,\n",
    "    data=df,\n",
    "    x='Stint',\n",
    "    y='Num Less Fit Under Intra Self-Send @ Filter Mod 20',\n",
    "    outattrs={\n",
    "        'bucket' : ib.dub( df['Treatment bucket'] ),\n",
    "        'endeavor' : ib.dub( df['Endeavor'] ),\n",
    "        'transform' : 'identity',\n",
    "        '_dfdigest' : dfdigest,\n",
    "    },\n",
    ")"
   ]
  },
  {
   "cell_type": "markdown",
   "metadata": {},
   "source": [
    "# how does inter messaging complexity change over time?"
   ]
  },
  {
   "cell_type": "code",
   "execution_count": null,
   "metadata": {},
   "outputs": [],
   "source": [
    "tee_plot(\n",
    "    sns.lineplot,\n",
    "    data=df,\n",
    "    x='Stint',\n",
    "    y='Num Less Fit Under Inter Self-Send @ Filter Mod 20',\n",
    "    hue='Series',\n",
    "    legend=False,\n",
    "    outattrs={\n",
    "        'bucket' : ib.dub( df['Treatment bucket'] ),\n",
    "        'endeavor' : ib.dub( df['Endeavor'] ),\n",
    "        'transform' : 'identity',    \n",
    "        '_dfdigest' : dfdigest,\n",
    "    },\n",
    ")"
   ]
  },
  {
   "cell_type": "code",
   "execution_count": null,
   "metadata": {},
   "outputs": [],
   "source": [
    "def swarmplot_boxplot(*args, **kwargs):\n",
    "    sns.swarmplot(\n",
    "        *args,\n",
    "        **kwargs,\n",
    "        edgecolor='w',\n",
    "        linewidth=0.5,\n",
    "        s=4,\n",
    "    )\n",
    "    sns.boxplot(\n",
    "        *args,\n",
    "        **kwargs,\n",
    "    )\n",
    "\n",
    "tee_plot(\n",
    "    swarmplot_boxplot,\n",
    "    data=df,\n",
    "    x='Stint',\n",
    "    y='Num Less Fit Under Inter Self-Send @ Filter Mod 20',\n",
    "    outattrs={\n",
    "        'bucket' : ib.dub( df['Treatment bucket'] ),\n",
    "        'endeavor' : ib.dub( df['Endeavor'] ),\n",
    "        'transform' : 'identity',\n",
    "        '_dfdigest' : dfdigest,\n",
    "    },\n",
    ")"
   ]
  },
  {
   "cell_type": "markdown",
   "metadata": {},
   "source": [
    "# how does cell interface complexity change over time?"
   ]
  },
  {
   "cell_type": "code",
   "execution_count": null,
   "metadata": {},
   "outputs": [],
   "source": [
    "tee_plot(\n",
    "    sns.lineplot,\n",
    "    data=df,\n",
    "    x='Stint',\n",
    "    y='Cell Interface Complexity',\n",
    "    hue='Series',\n",
    "    legend=False,\n",
    "    outattrs={\n",
    "        'bucket' : ib.dub( df['Treatment bucket'] ),\n",
    "        'endeavor' : ib.dub( df['Endeavor'] ),\n",
    "        'transform' : 'identity',    \n",
    "        '_dfdigest' : dfdigest,\n",
    "    },\n",
    ")"
   ]
  },
  {
   "cell_type": "code",
   "execution_count": null,
   "metadata": {},
   "outputs": [],
   "source": [
    "def swarmplot_boxplot(*args, **kwargs):\n",
    "    sns.swarmplot(\n",
    "        *args,\n",
    "        **kwargs,\n",
    "        edgecolor='w',\n",
    "        linewidth=0.5,\n",
    "        s=4,\n",
    "    )\n",
    "    sns.boxplot(\n",
    "        *args,\n",
    "        **kwargs,\n",
    "    )\n",
    "\n",
    "tee_plot(\n",
    "    swarmplot_boxplot,\n",
    "    data=df,\n",
    "    x='Stint',\n",
    "    y='Cell Interface Complexity',\n",
    "    outattrs={\n",
    "        'bucket' : ib.dub( df['Treatment bucket'] ),\n",
    "        'endeavor' : ib.dub( df['Endeavor'] ),\n",
    "        'transform' : 'identity',\n",
    "        '_dfdigest' : dfdigest,\n",
    "    },\n",
    ")"
   ]
  },
  {
   "cell_type": "code",
   "execution_count": null,
   "metadata": {},
   "outputs": [],
   "source": [
    "tee_plot(\n",
    "    sns.barplot,\n",
    "    data=df,\n",
    "    x='Stint',\n",
    "    y='Cell Interface Complexity',\n",
    "    outattrs={\n",
    "        'bucket' : ib.dub( df['Treatment bucket'] ),\n",
    "        'endeavor' : ib.dub( df['Endeavor'] ),\n",
    "        'transform' : 'identity',\n",
    "        '_dfdigest' : dfdigest,\n",
    "    },\n",
    ")"
   ]
  },
  {
   "cell_type": "markdown",
   "metadata": {},
   "source": [
    "# how does cardinal interface complexity change over time?"
   ]
  },
  {
   "cell_type": "code",
   "execution_count": null,
   "metadata": {},
   "outputs": [],
   "source": [
    "tee_plot(\n",
    "    sns.lineplot,\n",
    "    data=df,\n",
    "    x='Stint',\n",
    "    y='Cardinal Interface Complexity',\n",
    "    hue='Series',\n",
    "    legend=False,\n",
    "    outattrs={\n",
    "        'bucket' : ib.dub( df['Treatment bucket'] ),\n",
    "        'endeavor' : ib.dub( df['Endeavor'] ),\n",
    "        'transform' : 'identity',    \n",
    "        '_dfdigest' : dfdigest,\n",
    "    },\n",
    ")"
   ]
  },
  {
   "cell_type": "code",
   "execution_count": null,
   "metadata": {},
   "outputs": [],
   "source": [
    "def swarmplot_boxplot(*args, **kwargs):\n",
    "    sns.swarmplot(\n",
    "        *args,\n",
    "        **kwargs,\n",
    "        edgecolor='w',\n",
    "        linewidth=0.5,\n",
    "        s=4,\n",
    "    )\n",
    "    sns.boxplot(\n",
    "        *args,\n",
    "        **kwargs,\n",
    "    )\n",
    "\n",
    "tee_plot(\n",
    "    swarmplot_boxplot,\n",
    "    data=df,\n",
    "    x='Stint',\n",
    "    y='Cardinal Interface Complexity',\n",
    "    outattrs={\n",
    "        'bucket' : ib.dub( df['Treatment bucket'] ),\n",
    "        'endeavor' : ib.dub( df['Endeavor'] ),\n",
    "        'transform' : 'identity',\n",
    "        '_dfdigest' : dfdigest,\n",
    "    },\n",
    ")"
   ]
  },
  {
   "cell_type": "code",
   "execution_count": null,
   "metadata": {},
   "outputs": [],
   "source": [
    "tee_plot(\n",
    "    sns.barplot,\n",
    "    data=df,\n",
    "    x='Stint',\n",
    "    y='Cardinal Interface Complexity',\n",
    "    outattrs={\n",
    "        'bucket' : ib.dub( df['Treatment bucket'] ),\n",
    "        'endeavor' : ib.dub( df['Endeavor'] ),\n",
    "        'transform' : 'identity',\n",
    "        '_dfdigest' : dfdigest,\n",
    "    },\n",
    ")"
   ]
  },
  {
   "cell_type": "code",
   "execution_count": null,
   "metadata": {},
   "outputs": [],
   "source": []
  }
 ],
 "metadata": {
  "kernelspec": {
   "display_name": "Python 3",
   "language": "python",
   "name": "python3"
  },
  "language_info": {
   "codemirror_mode": {
    "name": "ipython",
    "version": 3
   },
   "file_extension": ".py",
   "mimetype": "text/x-python",
   "name": "python",
   "nbconvert_exporter": "python",
   "pygments_lexer": "ipython3",
   "version": "3.8.5"
  }
 },
 "nbformat": 4,
 "nbformat_minor": 4
}

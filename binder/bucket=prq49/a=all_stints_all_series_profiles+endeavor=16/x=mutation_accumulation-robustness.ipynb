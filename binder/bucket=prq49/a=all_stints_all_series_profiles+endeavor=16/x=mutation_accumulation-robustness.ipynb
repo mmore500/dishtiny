{
 "cells": [
  {
   "cell_type": "code",
   "execution_count": null,
   "metadata": {},
   "outputs": [],
   "source": [
    "import boto3\n",
    "import botocore\n",
    "from iterdub import iterdub as ib\n",
    "import matplotlib.pyplot as plt\n",
    "import pandas as pd\n",
    "from pandas.util import hash_pandas_object\n",
    "from scipy import stats\n",
    "import seaborn as sns\n",
    "from teeplot import teeplot as tp"
   ]
  },
  {
   "cell_type": "markdown",
   "metadata": {},
   "source": [
    "# get data"
   ]
  },
  {
   "cell_type": "code",
   "execution_count": null,
   "metadata": {},
   "outputs": [],
   "source": [
    "s3_handle = boto3.resource(\n",
    "    's3',\n",
    "    region_name=\"us-east-2\",\n",
    "    config=botocore.config.Config(\n",
    "        signature_version=botocore.UNSIGNED,\n",
    "    ),\n",
    ")\n",
    "bucket_handle = s3_handle.Bucket('prq49')\n",
    "\n",
    "series_profiles, = bucket_handle.objects.filter(\n",
    "    Prefix=f'endeavor=16/series-profiles/stage=8+what=elaborated/',\n",
    ")"
   ]
  },
  {
   "cell_type": "code",
   "execution_count": null,
   "metadata": {},
   "outputs": [],
   "source": [
    "df = pd.read_csv(\n",
    "    f's3://prq49/{series_profiles.key}',\n",
    "    compression='xz',\n",
    ")\n",
    "dfdigest = '{:x}'.format( hash_pandas_object( df ).sum() )\n",
    "dfdigest"
   ]
  },
  {
   "cell_type": "code",
   "execution_count": null,
   "metadata": {},
   "outputs": [],
   "source": [
    "for stint in df['Stint'].unique():\n",
    "    exec(f'df{stint} = df[ df[\"Stint\"] == {stint} ]')"
   ]
  },
  {
   "cell_type": "markdown",
   "metadata": {},
   "source": [
    "# how do robustness (fraction deleterious) and mutation accumulation relate?"
   ]
  },
  {
   "cell_type": "code",
   "execution_count": null,
   "metadata": {},
   "outputs": [],
   "source": [
    "tp.tee(\n",
    "    sns.regplot,\n",
    "    data=df,\n",
    "    x='Fraction Mutations that are Deleterious',\n",
    "    y='Mutation Accumulation',\n",
    "    teeplot_outattrs={\n",
    "        'bucket' : ib.dub( df['Bucket'] ),\n",
    "        'endeavor' : ib.dub( df['Endeavor'] ),\n",
    "        'transform' : 'identity',\n",
    "        '_dfdigest' : dfdigest,\n",
    "    },\n",
    ")"
   ]
  },
  {
   "cell_type": "code",
   "execution_count": null,
   "metadata": {},
   "outputs": [],
   "source": [
    "tp.tee(\n",
    "    sns.regplot,\n",
    "    data=df40,\n",
    "    x='Fraction Mutations that are Deleterious',\n",
    "    y='Mutation Accumulation',\n",
    "    teeplot_outattrs={\n",
    "        'bucket' : ib.dub( df['Bucket'] ),\n",
    "        'endeavor' : ib.dub( df['Endeavor'] ),\n",
    "        'transform' : 'filter-Stint-40',\n",
    "        '_dfdigest' : dfdigest,\n",
    "    },\n",
    ")\n",
    "\n",
    "stats.pearsonr(\n",
    "    df40['Fraction Mutations that are Deleterious'],\n",
    "    df40['Mutation Accumulation'],\n",
    ")"
   ]
  },
  {
   "cell_type": "code",
   "execution_count": null,
   "metadata": {},
   "outputs": [],
   "source": [
    "groupby_Series_mean_df = df.groupby('Series').mean()\n",
    "tp.tee(\n",
    "    sns.regplot,\n",
    "    data=groupby_Series_mean_df,\n",
    "    x='Fraction Mutations that are Deleterious',\n",
    "    y='Mutation Accumulation',\n",
    "    teeplot_outattrs={\n",
    "        'bucket' : ib.dub( df['Bucket'] ),\n",
    "        'endeavor' : ib.dub( df['Endeavor'] ),\n",
    "        'transform' : 'groupby-Series-mean',\n",
    "        '_dfdigest' : dfdigest,\n",
    "    },\n",
    ")\n",
    "stats.pearsonr(\n",
    "    df.groupby('Series')['Fraction Mutations that are Deleterious'].mean(),\n",
    "    df.groupby('Series')['Mutation Accumulation'].mean(),\n",
    ")"
   ]
  },
  {
   "cell_type": "markdown",
   "metadata": {},
   "source": [
    "# how do robustness (mean differential) and mutation accumulation relate?"
   ]
  },
  {
   "cell_type": "code",
   "execution_count": null,
   "metadata": {},
   "outputs": [],
   "source": [
    "tp.tee(\n",
    "    sns.regplot,\n",
    "    data=df,\n",
    "    x='Mean Mutant Fitness Differential',\n",
    "    y='Mutation Accumulation',\n",
    "    teeplot_outattrs={\n",
    "        'bucket' : ib.dub( df['Bucket'] ),\n",
    "        'endeavor' : ib.dub( df['Endeavor'] ),\n",
    "        'transform' : 'identity',\n",
    "        '_dfdigest' : dfdigest,\n",
    "    },\n",
    ")"
   ]
  },
  {
   "cell_type": "code",
   "execution_count": null,
   "metadata": {},
   "outputs": [],
   "source": [
    "tp.tee(\n",
    "    sns.regplot,\n",
    "    data=df40,\n",
    "    x='Mean Mutant Fitness Differential',\n",
    "    y='Mutation Accumulation',\n",
    "    teeplot_outattrs={\n",
    "        'bucket' : ib.dub( df['Bucket'] ),\n",
    "        'endeavor' : ib.dub( df['Endeavor'] ),\n",
    "        'transform' : 'filter-Stint-40',\n",
    "        '_dfdigest' : dfdigest,\n",
    "    },\n",
    ")\n",
    "\n",
    "stats.pearsonr(\n",
    "    df40['Mean Mutant Fitness Differential'],\n",
    "    df40['Mutation Accumulation'],\n",
    ")"
   ]
  },
  {
   "cell_type": "code",
   "execution_count": null,
   "metadata": {},
   "outputs": [],
   "source": [
    "groupby_Series_mean_df = df.groupby('Series').mean()\n",
    "tp.tee(\n",
    "    sns.regplot,\n",
    "    data=groupby_Series_mean_df,\n",
    "    x='Mean Mutant Fitness Differential',\n",
    "    y='Mutation Accumulation',\n",
    "    teeplot_outattrs={\n",
    "        'bucket' : ib.dub( df['Bucket'] ),\n",
    "        'endeavor' : ib.dub( df['Endeavor'] ),\n",
    "        'transform' : 'groupby-Series-mean',\n",
    "        '_dfdigest' : dfdigest,\n",
    "    },\n",
    ")\n",
    "stats.pearsonr(\n",
    "    df.groupby('Series')['Mean Mutant Fitness Differential'].mean(),\n",
    "    df.groupby('Series')['Mutation Accumulation'].mean(),\n",
    ")"
   ]
  },
  {
   "cell_type": "markdown",
   "metadata": {},
   "source": [
    "# how do robustness (mutaing mutant differential) and mutation accumulation relate?"
   ]
  },
  {
   "cell_type": "code",
   "execution_count": null,
   "metadata": {},
   "outputs": [],
   "source": [
    "tp.tee(\n",
    "    sns.regplot,\n",
    "    data=df,\n",
    "    x='Mean Mutating Mutant Fitness Differential',\n",
    "    y='Mutation Accumulation',\n",
    "    teeplot_outattrs={\n",
    "        'bucket' : ib.dub( df['Bucket'] ),\n",
    "        'endeavor' : ib.dub( df['Endeavor'] ),\n",
    "        'transform' : 'identity',\n",
    "        '_dfdigest' : dfdigest,\n",
    "    },\n",
    ")"
   ]
  },
  {
   "cell_type": "code",
   "execution_count": null,
   "metadata": {},
   "outputs": [],
   "source": [
    "tp.tee(\n",
    "    sns.regplot,\n",
    "    data=df40,\n",
    "    x='Mean Mutating Mutant Fitness Differential',\n",
    "    y='Mutation Accumulation',\n",
    "    teeplot_outattrs={\n",
    "        'bucket' : ib.dub( df['Bucket'] ),\n",
    "        'endeavor' : ib.dub( df['Endeavor'] ),\n",
    "        'transform' : 'filter-Stint-40',\n",
    "        '_dfdigest' : dfdigest,\n",
    "    },\n",
    ")\n",
    "\n",
    "stats.pearsonr(\n",
    "    df40['Mean Mutating Mutant Fitness Differential'],\n",
    "    df40['Mutation Accumulation'],\n",
    ")"
   ]
  },
  {
   "cell_type": "code",
   "execution_count": null,
   "metadata": {},
   "outputs": [],
   "source": [
    "groupby_Series_mean_df = df.groupby('Series').mean()\n",
    "tp.tee(\n",
    "    sns.regplot,\n",
    "    data=groupby_Series_mean_df,\n",
    "    x='Mean Mutating Mutant Fitness Differential',\n",
    "    y='Mutation Accumulation',\n",
    "    teeplot_outattrs={\n",
    "        'bucket' : ib.dub( df['Bucket'] ),\n",
    "        'endeavor' : ib.dub( df['Endeavor'] ),\n",
    "        'transform' : 'groupby-Series-mean',\n",
    "        '_dfdigest' : dfdigest,\n",
    "    },\n",
    ")\n",
    "stats.pearsonr(\n",
    "    df.groupby('Series')['Mean Mutating Mutant Fitness Differential'].mean(),\n",
    "    df.groupby('Series')['Mutation Accumulation'].mean(),\n",
    ")"
   ]
  },
  {
   "cell_type": "markdown",
   "metadata": {},
   "source": [
    "# how do robustness (frac deleterious mutaing mutant) and mutation accumulation relate?"
   ]
  },
  {
   "cell_type": "code",
   "execution_count": null,
   "metadata": {},
   "outputs": [],
   "source": [
    "tp.tee(\n",
    "    sns.regplot,\n",
    "    data=df,\n",
    "    x='Fraction Mutating Mutations that are Deleterious',\n",
    "    y='Mutation Accumulation',\n",
    "    teeplot_outattrs={\n",
    "        'bucket' : ib.dub( df['Bucket'] ),\n",
    "        'endeavor' : ib.dub( df['Endeavor'] ),\n",
    "        'transform' : 'identity',\n",
    "        '_dfdigest' : dfdigest,\n",
    "    },\n",
    ")"
   ]
  },
  {
   "cell_type": "code",
   "execution_count": null,
   "metadata": {},
   "outputs": [],
   "source": [
    "tp.tee(\n",
    "    sns.regplot,\n",
    "    data=df40,\n",
    "    x='Fraction Mutating Mutations that are Deleterious',\n",
    "    y='Mutation Accumulation',\n",
    "    teeplot_outattrs={\n",
    "        'bucket' : ib.dub( df['Bucket'] ),\n",
    "        'endeavor' : ib.dub( df['Endeavor'] ),\n",
    "        'transform' : 'filter-Stint-40',\n",
    "        '_dfdigest' : dfdigest,\n",
    "    },\n",
    ")\n",
    "\n",
    "stats.pearsonr(\n",
    "    df40['Fraction Mutating Mutations that are Deleterious'],\n",
    "    df40['Mutation Accumulation'],\n",
    ")"
   ]
  },
  {
   "cell_type": "code",
   "execution_count": null,
   "metadata": {},
   "outputs": [],
   "source": [
    "groupby_Series_mean_df = df.groupby('Series').mean()\n",
    "tp.tee(\n",
    "    sns.regplot,\n",
    "    data=groupby_Series_mean_df,\n",
    "    x='Fraction Mutating Mutations that are Deleterious',\n",
    "    y='Mutation Accumulation',\n",
    "    teeplot_outattrs={\n",
    "        'bucket' : ib.dub( df['Bucket'] ),\n",
    "        'endeavor' : ib.dub( df['Endeavor'] ),\n",
    "        'transform' : 'groupby-Series-mean',\n",
    "        '_dfdigest' : dfdigest,\n",
    "    },\n",
    ")\n",
    "stats.pearsonr(\n",
    "    df.groupby('Series')['Fraction Mutating Mutations that are Deleterious'].mean(),\n",
    "    df.groupby('Series')['Mutation Accumulation'].mean(),\n",
    ")"
   ]
  }
 ],
 "metadata": {
  "kernelspec": {
   "display_name": "Python 3",
   "language": "python",
   "name": "python3"
  },
  "language_info": {
   "codemirror_mode": {
    "name": "ipython",
    "version": 3
   },
   "file_extension": ".py",
   "mimetype": "text/x-python",
   "name": "python",
   "nbconvert_exporter": "python",
   "pygments_lexer": "ipython3",
   "version": "3.8.5"
  }
 },
 "nbformat": 4,
 "nbformat_minor": 4
}

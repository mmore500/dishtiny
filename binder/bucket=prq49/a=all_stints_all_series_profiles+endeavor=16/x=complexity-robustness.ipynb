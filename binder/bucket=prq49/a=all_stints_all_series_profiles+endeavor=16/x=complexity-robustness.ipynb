{
 "cells": [
  {
   "cell_type": "code",
   "execution_count": null,
   "metadata": {},
   "outputs": [],
   "source": [
    "import boto3\n",
    "import botocore\n",
    "from iterdub import iterdub as ib\n",
    "import matplotlib.pyplot as plt\n",
    "import pandas as pd\n",
    "from pandas.util import hash_pandas_object\n",
    "from scipy import stats\n",
    "import seaborn as sns\n",
    "from teeplot import teeplot as tp"
   ]
  },
  {
   "cell_type": "markdown",
   "metadata": {},
   "source": [
    "# get data"
   ]
  },
  {
   "cell_type": "code",
   "execution_count": null,
   "metadata": {},
   "outputs": [],
   "source": [
    "s3_handle = boto3.resource(\n",
    "    's3',\n",
    "    region_name=\"us-east-2\",\n",
    "    config=botocore.config.Config(\n",
    "        signature_version=botocore.UNSIGNED,\n",
    "    ),\n",
    ")\n",
    "bucket_handle = s3_handle.Bucket('prq49')\n",
    "\n",
    "series_profiles, = bucket_handle.objects.filter(\n",
    "    Prefix=f'endeavor=16/stage=8+what=elaborated/',\n",
    ")"
   ]
  },
  {
   "cell_type": "code",
   "execution_count": null,
   "metadata": {},
   "outputs": [],
   "source": [
    "df = pd.read_csv(\n",
    "    f's3://prq49/{series_profiles.key}',\n",
    "    compression='xz',\n",
    ")\n",
    "dfdigest = '{:x}'.format( hash_pandas_object( df ).sum() )\n",
    "dfdigest"
   ]
  },
  {
   "cell_type": "code",
   "execution_count": null,
   "metadata": {},
   "outputs": [],
   "source": [
    "for stint in df['Stint'].unique():\n",
    "    exec(f'df{stint} = df[ df[\"Stint\"] == {stint} ]')"
   ]
  },
  {
   "cell_type": "markdown",
   "metadata": {},
   "source": [
    "# how do fitness complexity and robustness relate?"
   ]
  },
  {
   "cell_type": "code",
   "execution_count": null,
   "metadata": {},
   "outputs": [],
   "source": [
    "tp.tee(\n",
    "    sns.regplot,\n",
    "    data=df,\n",
    "    x='Fitness Complexity',\n",
    "    y='Fraction Mutations that are Deleterious',\n",
    "    teeplot_outattrs={\n",
    "        'bucket' : ib.dub( df['Treatment bucket'] ),\n",
    "        'endeavor' : ib.dub( df['Endeavor'] ),\n",
    "        'transform' : 'identity',\n",
    "        '_dfdigest' : dfdigest,\n",
    "    },\n",
    ")"
   ]
  },
  {
   "cell_type": "code",
   "execution_count": null,
   "metadata": {},
   "outputs": [],
   "source": [
    "tp.tee(\n",
    "    sns.regplot,\n",
    "    data=df40,\n",
    "    x='Fitness Complexity',\n",
    "    y='Fraction Mutations that are Deleterious',\n",
    "    teeplot_outattrs={\n",
    "        'bucket' : ib.dub( df['Treatment bucket'] ),\n",
    "        'endeavor' : ib.dub( df['Endeavor'] ),\n",
    "        'transform' : 'filter-Stint-40',\n",
    "        '_dfdigest' : dfdigest,\n",
    "    },\n",
    ")\n",
    "\n",
    "stats.pearsonr(\n",
    "    df40['Fitness Complexity'],\n",
    "    df40['Fraction Mutations that are Deleterious'],\n",
    ")"
   ]
  },
  {
   "cell_type": "code",
   "execution_count": null,
   "metadata": {},
   "outputs": [],
   "source": [
    "groupby_Series_mean_df = df.groupby('Series').mean()\n",
    "tp.tee(\n",
    "    sns.regplot,\n",
    "    data=groupby_Series_mean_df,\n",
    "    x='Fitness Complexity',\n",
    "    y='Fraction Mutations that are Deleterious',\n",
    "    teeplot_outattrs={\n",
    "        'bucket' : ib.dub( df['Treatment bucket'] ),\n",
    "        'endeavor' : ib.dub( df['Endeavor'] ),\n",
    "        'transform' : 'groupby-Series-mean',\n",
    "        '_dfdigest' : dfdigest,\n",
    "    },\n",
    ")\n",
    "stats.pearsonr(\n",
    "    df.groupby('Series')['Fitness Complexity'].mean(),\n",
    "    df.groupby('Series')['Fraction Mutations that are Deleterious'].mean(),\n",
    ")"
   ]
  },
  {
   "cell_type": "markdown",
   "metadata": {},
   "source": [
    "# how do phenotype complexity and robustness relate?"
   ]
  },
  {
   "cell_type": "code",
   "execution_count": null,
   "metadata": {},
   "outputs": [],
   "source": [
    "tp.tee(\n",
    "    sns.regplot,\n",
    "    data=df,\n",
    "    x='Phenotype Complexity',\n",
    "    y='Fraction Mutations that are Deleterious',\n",
    "    teeplot_outattrs={\n",
    "        'bucket' : ib.dub( df['Treatment bucket'] ),\n",
    "        'endeavor' : ib.dub( df['Endeavor'] ),\n",
    "        'transform' : 'identity',\n",
    "        '_dfdigest' : dfdigest,\n",
    "    },\n",
    ")"
   ]
  },
  {
   "cell_type": "code",
   "execution_count": null,
   "metadata": {},
   "outputs": [],
   "source": [
    "tp.tee(\n",
    "    sns.regplot,\n",
    "    data=df40,\n",
    "    x='Phenotype Complexity',\n",
    "    y='Fraction Mutations that are Deleterious',\n",
    "    teeplot_outattrs={\n",
    "        'bucket' : ib.dub( df['Treatment bucket'] ),\n",
    "        'endeavor' : ib.dub( df['Endeavor'] ),\n",
    "        'transform' : 'filter-Stint-40',\n",
    "        '_dfdigest' : dfdigest,\n",
    "    },\n",
    ")\n",
    "\n",
    "stats.pearsonr(\n",
    "    df40['Phenotype Complexity'],\n",
    "    df40['Fraction Mutations that are Deleterious'],\n",
    ")"
   ]
  },
  {
   "cell_type": "code",
   "execution_count": null,
   "metadata": {},
   "outputs": [],
   "source": [
    "groupby_Series_mean_df = df.groupby('Series').mean()\n",
    "tp.tee(\n",
    "    sns.regplot,\n",
    "    data=groupby_Series_mean_df,\n",
    "    x='Phenotype Complexity',\n",
    "    y='Fraction Mutations that are Deleterious',\n",
    "    teeplot_outattrs={\n",
    "        'bucket' : ib.dub( df['Treatment bucket'] ),\n",
    "        'endeavor' : ib.dub( df['Endeavor'] ),\n",
    "        'transform' : 'groupby-Series-mean',\n",
    "        '_dfdigest' : dfdigest,\n",
    "    },\n",
    ")\n",
    "stats.pearsonr(\n",
    "    df.groupby('Series')['Phenotype Complexity'].mean(),\n",
    "    df.groupby('Series')['Fraction Mutations that are Deleterious'].mean(),\n",
    ")"
   ]
  },
  {
   "cell_type": "markdown",
   "metadata": {},
   "source": [
    "# how do cardinal interface complexity and robustness relate?"
   ]
  },
  {
   "cell_type": "code",
   "execution_count": null,
   "metadata": {},
   "outputs": [],
   "source": [
    "tp.tee(\n",
    "    sns.regplot,\n",
    "    data=df,\n",
    "    x='Cardinal Interface Complexity',\n",
    "    y='Fraction Mutations that are Deleterious',\n",
    "    teeplot_outattrs={\n",
    "        'bucket' : ib.dub( df['Treatment bucket'] ),\n",
    "        'endeavor' : ib.dub( df['Endeavor'] ),\n",
    "        'transform' : 'identity',\n",
    "        '_dfdigest' : dfdigest,\n",
    "    },\n",
    ")"
   ]
  },
  {
   "cell_type": "code",
   "execution_count": null,
   "metadata": {},
   "outputs": [],
   "source": [
    "tp.tee(\n",
    "    sns.regplot,\n",
    "    data=df40,\n",
    "    x='Cardinal Interface Complexity',\n",
    "    y='Fraction Mutations that are Deleterious',\n",
    "    teeplot_outattrs={\n",
    "        'bucket' : ib.dub( df['Treatment bucket'] ),\n",
    "        'endeavor' : ib.dub( df['Endeavor'] ),\n",
    "        'transform' : 'filter-Stint-40',\n",
    "        '_dfdigest' : dfdigest,\n",
    "    },\n",
    ")\n",
    "\n",
    "stats.pearsonr(\n",
    "    df40['Cardinal Interface Complexity'],\n",
    "    df40['Fraction Mutations that are Deleterious'],\n",
    ")"
   ]
  },
  {
   "cell_type": "code",
   "execution_count": null,
   "metadata": {},
   "outputs": [],
   "source": [
    "groupby_Series_mean_df = df.groupby('Series').mean()\n",
    "tp.tee(\n",
    "    sns.regplot,\n",
    "    data=groupby_Series_mean_df,\n",
    "    x='Cardinal Interface Complexity',\n",
    "    y='Fraction Mutations that are Deleterious',\n",
    "    teeplot_outattrs={\n",
    "        'bucket' : ib.dub( df['Treatment bucket'] ),\n",
    "        'endeavor' : ib.dub( df['Endeavor'] ),\n",
    "        'transform' : 'groupby-Series-mean',\n",
    "        '_dfdigest' : dfdigest,\n",
    "    },\n",
    ")\n",
    "stats.pearsonr(\n",
    "    df.groupby('Series')['Cardinal Interface Complexity'].mean(),\n",
    "    df.groupby('Series')['Fraction Mutations that are Deleterious'].mean(),\n",
    ")"
   ]
  },
  {
   "cell_type": "markdown",
   "metadata": {},
   "source": [
    "# how do fitness complexity and mutating mutant fitness relate?"
   ]
  },
  {
   "cell_type": "markdown",
   "metadata": {},
   "source": [
    "## mean"
   ]
  },
  {
   "cell_type": "code",
   "execution_count": null,
   "metadata": {},
   "outputs": [],
   "source": [
    "tp.tee(\n",
    "    sns.regplot,\n",
    "    data=df,\n",
    "    x='Fitness Complexity',\n",
    "    y='Mean Mutating Mutant Fitness Differential',\n",
    "    teeplot_outattrs={\n",
    "        'bucket' : ib.dub( df['Treatment bucket'] ),\n",
    "        'endeavor' : ib.dub( df['Endeavor'] ),\n",
    "        'transform' : 'identity',\n",
    "        '_dfdigest' : dfdigest,\n",
    "    },\n",
    ")"
   ]
  },
  {
   "cell_type": "code",
   "execution_count": null,
   "metadata": {},
   "outputs": [],
   "source": [
    "tp.tee(\n",
    "    sns.regplot,\n",
    "    data=df40,\n",
    "    x='Fitness Complexity',\n",
    "    y='Mean Mutating Mutant Fitness Differential',\n",
    "    teeplot_outattrs={\n",
    "        'bucket' : ib.dub( df['Treatment bucket'] ),\n",
    "        'endeavor' : ib.dub( df['Endeavor'] ),\n",
    "        'transform' : 'filter-Stint-40',\n",
    "        '_dfdigest' : dfdigest,\n",
    "    },\n",
    ")\n",
    "\n",
    "stats.pearsonr(\n",
    "    df40['Fitness Complexity'],\n",
    "    df40['Mean Mutating Mutant Fitness Differential'],\n",
    ")"
   ]
  },
  {
   "cell_type": "code",
   "execution_count": null,
   "metadata": {},
   "outputs": [],
   "source": [
    "groupby_Series_mean_df = df.groupby('Series').mean()\n",
    "tp.tee(\n",
    "    sns.regplot,\n",
    "    data=groupby_Series_mean_df,\n",
    "    x='Fitness Complexity',\n",
    "    y='Mean Mutating Mutant Fitness Differential',\n",
    "    teeplot_outattrs={\n",
    "        'bucket' : ib.dub( df['Treatment bucket'] ),\n",
    "        'endeavor' : ib.dub( df['Endeavor'] ),\n",
    "        'transform' : 'groupby-Series-mean',\n",
    "        '_dfdigest' : dfdigest,\n",
    "    },\n",
    ")\n",
    "stats.pearsonr(\n",
    "    df.groupby('Series')['Fitness Complexity'].mean(),\n",
    "    df.groupby('Series')['Mean Mutating Mutant Fitness Differential'].mean(),\n",
    ")"
   ]
  },
  {
   "cell_type": "markdown",
   "metadata": {},
   "source": [
    "## median"
   ]
  },
  {
   "cell_type": "code",
   "execution_count": null,
   "metadata": {},
   "outputs": [],
   "source": [
    "tp.tee(\n",
    "    sns.regplot,\n",
    "    data=df,\n",
    "    x='Fitness Complexity',\n",
    "    y='Median Mutating Mutant Fitness Differential',\n",
    "    teeplot_outattrs={\n",
    "        'bucket' : ib.dub( df['Treatment bucket'] ),\n",
    "        'endeavor' : ib.dub( df['Endeavor'] ),\n",
    "        'transform' : 'identity',\n",
    "        '_dfdigest' : dfdigest,\n",
    "    },\n",
    ")"
   ]
  },
  {
   "cell_type": "code",
   "execution_count": null,
   "metadata": {},
   "outputs": [],
   "source": [
    "tp.tee(\n",
    "    sns.regplot,\n",
    "    data=df40,\n",
    "    x='Fitness Complexity',\n",
    "    y='Median Mutating Mutant Fitness Differential',\n",
    "    teeplot_outattrs={\n",
    "        'bucket' : ib.dub( df['Treatment bucket'] ),\n",
    "        'endeavor' : ib.dub( df['Endeavor'] ),\n",
    "        'transform' : 'filter-Stint-40',\n",
    "        '_dfdigest' : dfdigest,\n",
    "    },\n",
    ")\n",
    "\n",
    "stats.pearsonr(\n",
    "    df40['Fitness Complexity'],\n",
    "    df40['Median Mutating Mutant Fitness Differential'],\n",
    ")"
   ]
  },
  {
   "cell_type": "code",
   "execution_count": null,
   "metadata": {},
   "outputs": [],
   "source": [
    "groupby_Series_mean_df = df.groupby('Series').mean()\n",
    "tp.tee(\n",
    "    sns.regplot,\n",
    "    data=groupby_Series_mean_df,\n",
    "    x='Fitness Complexity',\n",
    "    y='Median Mutating Mutant Fitness Differential',\n",
    "    teeplot_outattrs={\n",
    "        'bucket' : ib.dub( df['Treatment bucket'] ),\n",
    "        'endeavor' : ib.dub( df['Endeavor'] ),\n",
    "        'transform' : 'groupby-Series-mean',\n",
    "        '_dfdigest' : dfdigest,\n",
    "    },\n",
    ")\n",
    "stats.pearsonr(\n",
    "    df.groupby('Series')['Fitness Complexity'].mean(),\n",
    "    df.groupby('Series')['Median Mutating Mutant Fitness Differential'].mean(),\n",
    ")"
   ]
  },
  {
   "cell_type": "markdown",
   "metadata": {},
   "source": [
    "## fraction deleterious"
   ]
  },
  {
   "cell_type": "code",
   "execution_count": null,
   "metadata": {},
   "outputs": [],
   "source": [
    "tp.tee(\n",
    "    sns.regplot,\n",
    "    data=df,\n",
    "    x='Fitness Complexity',\n",
    "    y='Fraction Mutating Mutations that are Deleterious',\n",
    "    teeplot_outattrs={\n",
    "        'bucket' : ib.dub( df['Treatment bucket'] ),\n",
    "        'endeavor' : ib.dub( df['Endeavor'] ),\n",
    "        'transform' : 'identity',\n",
    "        '_dfdigest' : dfdigest,\n",
    "    },\n",
    ")"
   ]
  },
  {
   "cell_type": "code",
   "execution_count": null,
   "metadata": {},
   "outputs": [],
   "source": [
    "tp.tee(\n",
    "    sns.regplot,\n",
    "    data=df40,\n",
    "    x='Fitness Complexity',\n",
    "    y='Fraction Mutating Mutations that are Deleterious',\n",
    "    teeplot_outattrs={\n",
    "        'bucket' : ib.dub( df['Treatment bucket'] ),\n",
    "        'endeavor' : ib.dub( df['Endeavor'] ),\n",
    "        'transform' : 'filter-Stint-40',\n",
    "        '_dfdigest' : dfdigest,\n",
    "    },\n",
    ")\n",
    "\n",
    "stats.pearsonr(\n",
    "    df40['Fitness Complexity'],\n",
    "    df40['Fraction Mutating Mutations that are Deleterious'],\n",
    ")"
   ]
  },
  {
   "cell_type": "code",
   "execution_count": null,
   "metadata": {},
   "outputs": [],
   "source": [
    "groupby_Series_mean_df = df.groupby('Series').mean()\n",
    "tp.tee(\n",
    "    sns.regplot,\n",
    "    data=groupby_Series_mean_df,\n",
    "    x='Fitness Complexity',\n",
    "    y='Fraction Mutating Mutations that are Deleterious',\n",
    "    teeplot_outattrs={\n",
    "        'bucket' : ib.dub( df['Treatment bucket'] ),\n",
    "        'endeavor' : ib.dub( df['Endeavor'] ),\n",
    "        'transform' : 'groupby-Series-mean',\n",
    "        '_dfdigest' : dfdigest,\n",
    "    },\n",
    ")\n",
    "stats.pearsonr(\n",
    "    df.groupby('Series')['Fitness Complexity'].mean(),\n",
    "    df.groupby('Series')['Fraction Mutating Mutations that are Deleterious'].mean(),\n",
    ")"
   ]
  }
 ],
 "metadata": {
  "kernelspec": {
   "display_name": "Python 3",
   "language": "python",
   "name": "python3"
  },
  "language_info": {
   "codemirror_mode": {
    "name": "ipython",
    "version": 3
   },
   "file_extension": ".py",
   "mimetype": "text/x-python",
   "name": "python",
   "nbconvert_exporter": "python",
   "pygments_lexer": "ipython3",
   "version": "3.8.5"
  }
 },
 "nbformat": 4,
 "nbformat_minor": 4
}

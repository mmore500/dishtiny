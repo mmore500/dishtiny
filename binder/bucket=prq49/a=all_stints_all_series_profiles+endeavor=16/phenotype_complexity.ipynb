{
 "cells": [
  {
   "cell_type": "code",
   "execution_count": null,
   "metadata": {},
   "outputs": [],
   "source": [
    "import boto3\n",
    "import botocore\n",
    "from iterdub import iterdub as ib\n",
    "import matplotlib.pyplot as plt\n",
    "import pandas as pd\n",
    "from pandas.util import hash_pandas_object\n",
    "from scipy import stats\n",
    "import seaborn as sns\n",
    "from teeplot import teeplot as tp"
   ]
  },
  {
   "cell_type": "markdown",
   "metadata": {},
   "source": [
    "# get data"
   ]
  },
  {
   "cell_type": "code",
   "execution_count": null,
   "metadata": {},
   "outputs": [],
   "source": [
    "s3_handle = boto3.resource(\n",
    "    's3',\n",
    "    region_name=\"us-east-2\",\n",
    "    config=botocore.config.Config(\n",
    "        signature_version=botocore.UNSIGNED,\n",
    "    ),\n",
    ")\n",
    "bucket_handle = s3_handle.Bucket('prq49')\n",
    "\n",
    "series_profiles, = bucket_handle.objects.filter(\n",
    "    Prefix=f'endeavor=16/series-profiles/stage=8+what=elaborated/',\n",
    ")"
   ]
  },
  {
   "cell_type": "code",
   "execution_count": null,
   "metadata": {},
   "outputs": [],
   "source": [
    "df = pd.read_csv(\n",
    "    f's3://prq49/{series_profiles.key}',\n",
    "    compression='xz',\n",
    ")\n",
    "dfdigest = '{:x}'.format( hash_pandas_object( df ).sum() )\n",
    "dfdigest"
   ]
  },
  {
   "cell_type": "code",
   "execution_count": null,
   "metadata": {},
   "outputs": [],
   "source": [
    "for stint in df['Stint'].unique():\n",
    "    exec(f'df{stint} = df[ df[\"Stint\"] == {stint} ]')"
   ]
  },
  {
   "cell_type": "markdown",
   "metadata": {},
   "source": [
    "# how does phenotype complexity change over time?"
   ]
  },
  {
   "cell_type": "code",
   "execution_count": null,
   "metadata": {},
   "outputs": [],
   "source": [
    "tp.tee(\n",
    "    sns.lineplot,\n",
    "    data=df,\n",
    "    x='Stint',\n",
    "    y='Phenotype Complexity',\n",
    "    hue='Series',\n",
    "    legend=False,\n",
    "    teeplot_outattrs={\n",
    "        'bucket' : ib.dub( df['Treatment bucket'] ),\n",
    "        'endeavor' : ib.dub( df['Endeavor'] ),\n",
    "        'transform' : 'identity',\n",
    "        '_dfdigest' : dfdigest,\n",
    "    },\n",
    ")"
   ]
  },
  {
   "cell_type": "code",
   "execution_count": null,
   "metadata": {},
   "outputs": [],
   "source": [
    "def hline_boxplot_swarmplot(*args, **kwargs):\n",
    "    plt.axhline(\n",
    "        0,\n",
    "        c='k',\n",
    "        zorder=-1,\n",
    "    )\n",
    "    sns.boxplot(\n",
    "        *args,\n",
    "        **kwargs,\n",
    "    )\n",
    "    sns.swarmplot(\n",
    "        *args,\n",
    "        **kwargs,\n",
    "        edgecolor='w',\n",
    "        linewidth=0.5,\n",
    "        s=4,\n",
    "    )\n",
    "\n",
    "tp.tee(\n",
    "    hline_boxplot_swarmplot,\n",
    "    data=df,\n",
    "    x='Stint',\n",
    "    y='Phenotype Complexity Delta',\n",
    "    teeplot_outattrs={\n",
    "        'bucket' : ib.dub( df['Treatment bucket'] ),\n",
    "        'endeavor' : ib.dub( df['Endeavor'] ),\n",
    "        'transform' : 'identity',\n",
    "        '_dfdigest' : dfdigest,\n",
    "    },\n",
    ")"
   ]
  },
  {
   "cell_type": "code",
   "execution_count": null,
   "metadata": {},
   "outputs": [],
   "source": [
    "def boxplot_swarmplot(*args, **kwargs):\n",
    "    sns.boxplot(\n",
    "        *args,\n",
    "        **kwargs,\n",
    "    )\n",
    "    sns.swarmplot(\n",
    "        *args,\n",
    "        **kwargs,\n",
    "        edgecolor='w',\n",
    "        linewidth=0.5,\n",
    "        s=4,\n",
    "    )\n",
    "\n",
    "tp.tee(\n",
    "    boxplot_swarmplot,\n",
    "    data=df,\n",
    "    x='Stint',\n",
    "    y='Phenotype Complexity',\n",
    "    teeplot_outattrs={\n",
    "        'bucket' : ib.dub( df['Treatment bucket'] ),\n",
    "        'endeavor' : ib.dub( df['Endeavor'] ),\n",
    "        'transform' : 'identity',\n",
    "        '_dfdigest' : dfdigest,\n",
    "    },\n",
    ")\n"
   ]
  },
  {
   "cell_type": "code",
   "execution_count": null,
   "metadata": {},
   "outputs": [],
   "source": [
    "def boxplot_swarmplot(*args, **kwargs):\n",
    "    sns.boxplot(\n",
    "        *args,\n",
    "        **kwargs,\n",
    "    )\n",
    "    sns.swarmplot(\n",
    "        *args,\n",
    "        **kwargs,\n",
    "        edgecolor='w',\n",
    "        linewidth=0.5,\n",
    "        s=4,\n",
    "    )\n",
    "\n",
    "tp.tee(\n",
    "    boxplot_swarmplot,\n",
    "    data=df,\n",
    "    x='Stint',\n",
    "    y='Num Instructions',\n",
    "    teeplot_outattrs={\n",
    "        'bucket' : ib.dub( df['Treatment bucket'] ),\n",
    "        'endeavor' : ib.dub( df['Endeavor'] ),\n",
    "        'transform' : 'identity',\n",
    "        '_dfdigest' : dfdigest,\n",
    "    },\n",
    ")"
   ]
  },
  {
   "cell_type": "code",
   "execution_count": null,
   "metadata": {},
   "outputs": [],
   "source": [
    "groupby_series_mean_df = df.groupby('Series').mean()\n",
    "tp.tee(\n",
    "    sns.regplot,\n",
    "    data=groupby_series_mean_df,\n",
    "    x='Num Instructions',\n",
    "    y='Phenotype Complexity',\n",
    "    teeplot_outattrs={\n",
    "        'bucket' : ib.dub( df['Treatment bucket'] ),\n",
    "        'endeavor' : ib.dub( df['Endeavor'] ),\n",
    "        'transform' : 'groupby-Series-mean',\n",
    "        '_dfdigest' : dfdigest,\n",
    "    },\n",
    "\n",
    ")\n",
    "stats.pearsonr(\n",
    "    df.groupby('Series')['Num Instructions'].mean(),\n",
    "    df.groupby('Series')['Phenotype Complexity'].mean(),\n",
    ")"
   ]
  },
  {
   "cell_type": "code",
   "execution_count": null,
   "metadata": {},
   "outputs": [],
   "source": [
    "def identityline_regplot(*args, **kwargs):\n",
    "    sns.regplot(\n",
    "        *args,\n",
    "        **kwargs,\n",
    "    )\n",
    "    plt.plot(\n",
    "        [0,1000], \n",
    "        [0,-1000],\n",
    "        c='k',\n",
    "    )\n",
    "    \n",
    "tp.tee(\n",
    "    identityline_regplot,\n",
    "    data=df40,\n",
    "    x='Phenotype Complexity',\n",
    "    y='Phenotype Complexity Delta',\n",
    "    teeplot_outattrs={\n",
    "        'bucket' : ib.dub( df['Treatment bucket'] ),\n",
    "        'endeavor' : ib.dub( df['Endeavor'] ),\n",
    "        'transform' : 'filter-Stint-40',\n",
    "        '_dfdigest' : dfdigest,\n",
    "    },\n",
    ")"
   ]
  },
  {
   "cell_type": "code",
   "execution_count": null,
   "metadata": {},
   "outputs": [],
   "source": [
    "tp.tee(\n",
    "    sns.lmplot,\n",
    "    data=df40,\n",
    "    x='Phenotype Complexity',\n",
    "    y='Phenotype Complexity Delta Sign',\n",
    "    logistic=True,\n",
    "    truncate=False,\n",
    "    teeplot_outattrs={\n",
    "        'bucket' : ib.dub( df['Treatment bucket'] ),\n",
    "        'endeavor' : ib.dub( df['Endeavor'] ),\n",
    "        'transform' : 'filter-Stint-40',\n",
    "        '_dfdigest' : dfdigest,\n",
    "    },\n",
    ")"
   ]
  },
  {
   "cell_type": "code",
   "execution_count": null,
   "metadata": {},
   "outputs": [],
   "source": [
    "tp.tee(\n",
    "    sns.boxplot,\n",
    "    data=df,\n",
    "    y='Phenotype Complexity Delta %',\n",
    "    teeplot_outattrs={\n",
    "        'bucket' : ib.dub( df['Treatment bucket'] ),\n",
    "        'endeavor' : ib.dub( df['Endeavor'] ),\n",
    "        'transform' : 'identity',\n",
    "        '_dfdigest' : dfdigest,\n",
    "    },\n",
    ")"
   ]
  }
 ],
 "metadata": {
  "kernelspec": {
   "display_name": "Python 3",
   "language": "python",
   "name": "python3"
  },
  "language_info": {
   "codemirror_mode": {
    "name": "ipython",
    "version": 3
   },
   "file_extension": ".py",
   "mimetype": "text/x-python",
   "name": "python",
   "nbconvert_exporter": "python",
   "pygments_lexer": "ipython3",
   "version": "3.8.5"
  }
 },
 "nbformat": 4,
 "nbformat_minor": 4
}

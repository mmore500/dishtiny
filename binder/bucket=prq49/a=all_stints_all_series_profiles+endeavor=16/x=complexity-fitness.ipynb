{
 "cells": [
  {
   "cell_type": "code",
   "execution_count": 1,
   "metadata": {},
   "outputs": [],
   "source": [
    "import boto3\n",
    "import botocore\n",
    "from iterdub import iterdub as ib\n",
    "import matplotlib.pyplot as plt\n",
    "import pandas as pd\n",
    "from pandas.util import hash_pandas_object\n",
    "from scipy import stats\n",
    "import seaborn as sns\n",
    "from teeplot import teeplot as tp"
   ]
  },
  {
   "cell_type": "code",
   "execution_count": 2,
   "metadata": {},
   "outputs": [],
   "source": [
    "from dishpylib.pyhelpers import get_env_context\n",
    "from dishpylib.pyhelpers import get_git_revision_hash\n",
    "from dishpylib.pyhelpers import make_timestamp\n",
    "from dishpylib.pyhelpers import print_runtime"
   ]
  },
  {
   "cell_type": "code",
   "execution_count": 3,
   "metadata": {},
   "outputs": [
    {
     "name": "stdout",
     "output_type": "stream",
     "text": [
      "context: ci\n",
      "hostname: f9bf77cdb15c\n",
      "interpreter: 3.8.15 (default, Oct 12 2022, 19:14:39)  [GCC 7.5.0]\n",
      "revision: c785c9f4e\n",
      "timestamp: 2022-11-21T09:05:32Z00:00\n",
      "\n",
      "IPython==7.16.1\n",
      "boto3==1.14.44\n",
      "botocore==1.17.44\n",
      "iterdub==0.2.0\n",
      "matplotlib==3.5.2\n",
      "pandas==1.1.2\n",
      "scipy==1.5.4\n",
      "seaborn==0.11.2\n",
      "teeplot==0.1.1\n"
     ]
    }
   ],
   "source": [
    "print_runtime()"
   ]
  },
  {
   "cell_type": "markdown",
   "metadata": {},
   "source": [
    "# get data"
   ]
  },
  {
   "cell_type": "code",
   "execution_count": 4,
   "metadata": {},
   "outputs": [],
   "source": [
    "s3_handle = boto3.resource(\n",
    "    's3',\n",
    "    region_name=\"us-east-2\",\n",
    "    config=botocore.config.Config(\n",
    "        signature_version=botocore.UNSIGNED,\n",
    "    ),\n",
    ")\n",
    "bucket_handle = s3_handle.Bucket('prq49')\n",
    "\n",
    "series_profiles, = bucket_handle.objects.filter(\n",
    "    Prefix=f'endeavor=16/series-profiles/stage=8+what=elaborated/',\n",
    ")"
   ]
  },
  {
   "cell_type": "code",
   "execution_count": 5,
   "metadata": {},
   "outputs": [
    {
     "name": "stderr",
     "output_type": "stream",
     "text": [
      "/usr/local/lib/python3.8/dist-packages/IPython/core/interactiveshell.py:3071: DtypeWarning: Columns (2270,2277,2284,2285,2286,2287,2289,2290,2291,2292,2298,2299,2300,2301,2302,2308,2309,2310) have mixed types.Specify dtype option on import or set low_memory=False.\n",
      "  has_raised = await self.run_ast_nodes(code_ast.body, cell_name,\n"
     ]
    },
    {
     "data": {
      "text/plain": [
       "'-4b8e8f9e4d8ca984'"
      ]
     },
     "execution_count": 5,
     "metadata": {},
     "output_type": "execute_result"
    }
   ],
   "source": [
    "df = pd.read_csv(\n",
    "    f's3://prq49/{series_profiles.key}',\n",
    "    compression='xz',\n",
    ")\n",
    "dfdigest = '{:x}'.format( hash_pandas_object( df ).sum() )\n",
    "dfdigest"
   ]
  },
  {
   "cell_type": "code",
   "execution_count": 6,
   "metadata": {},
   "outputs": [],
   "source": [
    "for stint in df['Stint'].unique():\n",
    "    exec(f'df{stint} = df[ df[\"Stint\"] == {stint} ]')"
   ]
  },
  {
   "cell_type": "code",
   "execution_count": 7,
   "metadata": {},
   "outputs": [],
   "source": [
    "dfm10 = df[ df['Stint'] % 10 == 0 ]"
   ]
  },
  {
   "cell_type": "markdown",
   "metadata": {},
   "source": [
    "# how do fitness and phenotypic complexity relate?"
   ]
  },
  {
   "cell_type": "code",
   "execution_count": 8,
   "metadata": {},
   "outputs": [],
   "source": [
    "# tp.tee(\n",
    "#     sns.regplot,\n",
    "#     data=df40,\n",
    "#     x='Phenotype Complexity',\n",
    "#     y='Fraction Inter-Strain Competitions Won',\n",
    "#     teeplot_outattrs={\n",
    "#         'bucket' : ib.dub( df['Treatment bucket'] ),\n",
    "#         'endeavor' : ib.dub( df['Endeavor'] ),\n",
    "#         'transform' : 'filter-Stint-40',\n",
    "#         '_dfdigest' : dfdigest,\n",
    "#     },\n",
    "# )"
   ]
  },
  {
   "cell_type": "code",
   "execution_count": 9,
   "metadata": {},
   "outputs": [],
   "source": [
    "# groupby_Series_mean_df = df.groupby('Series').mean()\n",
    "# tp.tee(\n",
    "#     sns.regplot,\n",
    "#     data=groupby_Series_mean_df,\n",
    "#     x='Phenotype Complexity',\n",
    "#     y='Fraction Inter-Strain Competitions Won',\n",
    "#     teeplot_outattrs={\n",
    "#         'bucket' : ib.dub( df['Treatment bucket'] ),\n",
    "#         'endeavor' : ib.dub( df['Endeavor'] ),\n",
    "#         'transform' : 'groupby-Series-mean',\n",
    "#         '_dfdigest' : dfdigest,\n",
    "#     },\n",
    "# )\n",
    "# stats.pearsonr(\n",
    "#     df.groupby('Series')['Phenotype Complexity'].mean(),\n",
    "#     df.groupby('Series')['Fraction Inter-Strain Competitions Won'].mean(),\n",
    "# )"
   ]
  },
  {
   "cell_type": "markdown",
   "metadata": {},
   "source": [
    "# how do fitness and fitness complexity relate?"
   ]
  },
  {
   "cell_type": "code",
   "execution_count": 10,
   "metadata": {},
   "outputs": [],
   "source": [
    "# tp.tee(\n",
    "#     sns.regplot,\n",
    "#     data=df40,\n",
    "#     x='Fitness Complexity',\n",
    "#     y='Fraction Inter-Strain Competitions Won',\n",
    "#     teeplot_outattrs={\n",
    "#         'bucket' : ib.dub( df['Treatment bucket'] ),\n",
    "#         'endeavor' : ib.dub( df['Endeavor'] ),\n",
    "#         'transform' : 'filter-Stint-40',\n",
    "#         '_dfdigest' : dfdigest,\n",
    "#     },\n",
    "# )"
   ]
  },
  {
   "cell_type": "code",
   "execution_count": 11,
   "metadata": {},
   "outputs": [],
   "source": [
    "# groupby_Series_mean_df = df.groupby('Series').mean()\n",
    "# tp.tee(\n",
    "#     sns.regplot,\n",
    "#     data=groupby_Series_mean_df,\n",
    "#     x='Fitness Complexity',\n",
    "#     y='Fraction Inter-Strain Competitions Won',\n",
    "#     teeplot_outattrs={\n",
    "#         'bucket' : ib.dub( df['Treatment bucket'] ),\n",
    "#         'endeavor' : ib.dub( df['Endeavor'] ),\n",
    "#         'transform' : 'groupby-Series-mean',\n",
    "#         '_dfdigest' : dfdigest,\n",
    "#     },\n",
    "# )\n",
    "# stats.pearsonr(\n",
    "#     df.groupby('Series')['Fitness Complexity'].mean(),\n",
    "#     df.groupby('Series')['Fraction Inter-Strain Competitions Won'].mean(),\n",
    "# )"
   ]
  }
 ],
 "metadata": {
  "kernelspec": {
   "display_name": "Python 3",
   "language": "python",
   "name": "python3"
  },
  "language_info": {
   "codemirror_mode": {
    "name": "ipython",
    "version": 3
   },
   "file_extension": ".py",
   "mimetype": "text/x-python",
   "name": "python",
   "nbconvert_exporter": "python",
   "pygments_lexer": "ipython3",
   "version": "3.8.15"
  }
 },
 "nbformat": 4,
 "nbformat_minor": 4
}

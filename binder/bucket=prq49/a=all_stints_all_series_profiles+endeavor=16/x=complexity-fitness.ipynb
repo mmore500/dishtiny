{
 "cells": [
  {
   "cell_type": "code",
   "execution_count": 1,
   "metadata": {},
   "outputs": [],
   "source": [
    "import boto3\n",
    "import botocore\n",
    "from iterdub import iterdub as ib\n",
    "import matplotlib.pyplot as plt\n",
    "import pandas as pd\n",
    "from pandas.util import hash_pandas_object\n",
    "from scipy import stats\n",
    "import seaborn as sns\n",
    "from teeplot import teeplot as tp"
   ]
  },
  {
   "cell_type": "markdown",
   "metadata": {},
   "source": [
    "# get data"
   ]
  },
  {
   "cell_type": "code",
   "execution_count": 2,
   "metadata": {},
   "outputs": [],
   "source": [
    "s3_handle = boto3.resource(\n",
    "    's3',\n",
    "    region_name=\"us-east-2\",\n",
    "    config=botocore.config.Config(\n",
    "        signature_version=botocore.UNSIGNED,\n",
    "    ),\n",
    ")\n",
    "bucket_handle = s3_handle.Bucket('prq49')\n",
    "\n",
    "series_profiles, = bucket_handle.objects.filter(\n",
    "    Prefix=f'endeavor=16/series-profiles/stage=8+what=elaborated/',\n",
    ")"
   ]
  },
  {
   "cell_type": "code",
   "execution_count": 3,
   "metadata": {},
   "outputs": [
    {
     "name": "stderr",
     "output_type": "stream",
     "text": [
      "/usr/local/lib/python3.8/dist-packages/IPython/core/interactiveshell.py:3071: DtypeWarning: Columns (286,293,300,301,302,303,305,306,307,308,314,315,316,317,318,324,325,326) have mixed types.Specify dtype option on import or set low_memory=False.\n",
      "  has_raised = await self.run_ast_nodes(code_ast.body, cell_name,\n"
     ]
    },
    {
     "data": {
      "text/plain": [
       "'-604ccbed2c29794c'"
      ]
     },
     "execution_count": 3,
     "metadata": {},
     "output_type": "execute_result"
    }
   ],
   "source": [
    "df = pd.read_csv(\n",
    "    f's3://prq49/{series_profiles.key}',\n",
    "    compression='xz',\n",
    ")\n",
    "dfdigest = '{:x}'.format( hash_pandas_object( df ).sum() )\n",
    "dfdigest"
   ]
  },
  {
   "cell_type": "code",
   "execution_count": 4,
   "metadata": {},
   "outputs": [],
   "source": [
    "for stint in df['Stint'].unique():\n",
    "    exec(f'df{stint} = df[ df[\"Stint\"] == {stint} ]')"
   ]
  },
  {
   "cell_type": "code",
   "execution_count": 5,
   "metadata": {},
   "outputs": [],
   "source": [
    "dfm10 = df[ df['Stint'] % 10 == 0 ]"
   ]
  },
  {
   "cell_type": "markdown",
   "metadata": {},
   "source": [
    "# how do fitness and phenotypic complexity relate?"
   ]
  },
  {
   "cell_type": "code",
   "execution_count": 6,
   "metadata": {},
   "outputs": [],
   "source": [
    "# tp.tee(\n",
    "#     sns.regplot,\n",
    "#     data=df40,\n",
    "#     x='Phenotype Complexity',\n",
    "#     y='Fraction Inter-Strain Competitions Won',\n",
    "#     teeplot_outattrs={\n",
    "#         'bucket' : ib.dub( df['Treatment bucket'] ),\n",
    "#         'endeavor' : ib.dub( df['Endeavor'] ),\n",
    "#         'transform' : 'filter-Stint-40',\n",
    "#         '_dfdigest' : dfdigest,\n",
    "#     },\n",
    "# )"
   ]
  },
  {
   "cell_type": "code",
   "execution_count": 7,
   "metadata": {},
   "outputs": [],
   "source": [
    "# groupby_Series_mean_df = df.groupby('Series').mean()\n",
    "# tp.tee(\n",
    "#     sns.regplot,\n",
    "#     data=groupby_Series_mean_df,\n",
    "#     x='Phenotype Complexity',\n",
    "#     y='Fraction Inter-Strain Competitions Won',\n",
    "#     teeplot_outattrs={\n",
    "#         'bucket' : ib.dub( df['Treatment bucket'] ),\n",
    "#         'endeavor' : ib.dub( df['Endeavor'] ),\n",
    "#         'transform' : 'groupby-Series-mean',\n",
    "#         '_dfdigest' : dfdigest,\n",
    "#     },\n",
    "# )\n",
    "# stats.pearsonr(\n",
    "#     df.groupby('Series')['Phenotype Complexity'].mean(),\n",
    "#     df.groupby('Series')['Fraction Inter-Strain Competitions Won'].mean(),\n",
    "# )"
   ]
  },
  {
   "cell_type": "markdown",
   "metadata": {},
   "source": [
    "# how do fitness and fitness complexity relate?"
   ]
  },
  {
   "cell_type": "code",
   "execution_count": 8,
   "metadata": {},
   "outputs": [],
   "source": [
    "# tp.tee(\n",
    "#     sns.regplot,\n",
    "#     data=df40,\n",
    "#     x='Fitness Complexity',\n",
    "#     y='Fraction Inter-Strain Competitions Won',\n",
    "#     teeplot_outattrs={\n",
    "#         'bucket' : ib.dub( df['Treatment bucket'] ),\n",
    "#         'endeavor' : ib.dub( df['Endeavor'] ),\n",
    "#         'transform' : 'filter-Stint-40',\n",
    "#         '_dfdigest' : dfdigest,\n",
    "#     },\n",
    "# )"
   ]
  },
  {
   "cell_type": "code",
   "execution_count": 9,
   "metadata": {},
   "outputs": [],
   "source": [
    "# groupby_Series_mean_df = df.groupby('Series').mean()\n",
    "# tp.tee(\n",
    "#     sns.regplot,\n",
    "#     data=groupby_Series_mean_df,\n",
    "#     x='Fitness Complexity',\n",
    "#     y='Fraction Inter-Strain Competitions Won',\n",
    "#     teeplot_outattrs={\n",
    "#         'bucket' : ib.dub( df['Treatment bucket'] ),\n",
    "#         'endeavor' : ib.dub( df['Endeavor'] ),\n",
    "#         'transform' : 'groupby-Series-mean',\n",
    "#         '_dfdigest' : dfdigest,\n",
    "#     },\n",
    "# )\n",
    "# stats.pearsonr(\n",
    "#     df.groupby('Series')['Fitness Complexity'].mean(),\n",
    "#     df.groupby('Series')['Fraction Inter-Strain Competitions Won'].mean(),\n",
    "# )"
   ]
  }
 ],
 "metadata": {
  "kernelspec": {
   "display_name": "Python 3",
   "language": "python",
   "name": "python3"
  },
  "language_info": {
   "codemirror_mode": {
    "name": "ipython",
    "version": 3
   },
   "file_extension": ".py",
   "mimetype": "text/x-python",
   "name": "python",
   "nbconvert_exporter": "python",
   "pygments_lexer": "ipython3",
   "version": "3.8.10"
  }
 },
 "nbformat": 4,
 "nbformat_minor": 4
}

{
 "cells": [
  {
   "cell_type": "code",
   "execution_count": null,
   "metadata": {},
   "outputs": [],
   "source": [
    "import boto3\n",
    "import botocore\n",
    "from iterdub import iterdub as ib\n",
    "import matplotlib.pyplot as plt\n",
    "import pandas as pd\n",
    "from pandas.util import hash_pandas_object\n",
    "from scipy import stats\n",
    "import seaborn as sns\n",
    "from teeplot import teeplot as tp\n"
   ]
  },
  {
   "cell_type": "code",
   "execution_count": null,
   "metadata": {},
   "outputs": [],
   "source": [
    "from dishpylib.pyhelpers import make_outattr_metadata\n",
    "from dishpylib.pyhelpers import print_runtime\n"
   ]
  },
  {
   "cell_type": "code",
   "execution_count": null,
   "metadata": {},
   "outputs": [],
   "source": [
    "print_runtime()\n"
   ]
  },
  {
   "cell_type": "markdown",
   "metadata": {},
   "source": [
    "# get data\n"
   ]
  },
  {
   "cell_type": "code",
   "execution_count": null,
   "metadata": {},
   "outputs": [],
   "source": [
    "s3_handle = boto3.resource(\n",
    "    's3',\n",
    "    region_name=\"us-east-2\",\n",
    "    config=botocore.config.Config(\n",
    "        signature_version=botocore.UNSIGNED,\n",
    "    ),\n",
    ")\n",
    "bucket_handle = s3_handle.Bucket('prq49')\n",
    "\n",
    "series_profiles, = bucket_handle.objects.filter(\n",
    "    Prefix=f'endeavor=16/series-profiles/stage=8+what=elaborated/',\n",
    ")\n"
   ]
  },
  {
   "cell_type": "code",
   "execution_count": null,
   "metadata": {},
   "outputs": [],
   "source": [
    "df = pd.read_csv(\n",
    "    f's3://prq49/{series_profiles.key}',\n",
    "    compression='xz',\n",
    ")\n",
    "dfdigest = '{:x}'.format( hash_pandas_object( df ).sum() )\n",
    "dfdigest\n"
   ]
  },
  {
   "cell_type": "code",
   "execution_count": null,
   "metadata": {},
   "outputs": [],
   "source": [
    "for stint in df['Stint'].unique():\n",
    "    exec(f'df{stint} = df[ df[\"Stint\"] == {stint} ]')\n"
   ]
  },
  {
   "cell_type": "code",
   "execution_count": null,
   "metadata": {},
   "outputs": [],
   "source": [
    "dfm10 = df[ df['Stint'] % 10 == 0 ]\n"
   ]
  },
  {
   "cell_type": "markdown",
   "metadata": {},
   "source": [
    "# how do fitness and phenotypic complexity relate?\n"
   ]
  },
  {
   "cell_type": "code",
   "execution_count": null,
   "metadata": {},
   "outputs": [],
   "source": [
    "# tp.tee(\n",
    "#     sns.regplot,\n",
    "#     data=df40,\n",
    "#     x='Phenotype Complexity',\n",
    "#     y='Fraction Inter-Strain Competitions Won',\n",
    "#     teeplot_outattrs={\n",
    "#         **{\n",
    "#             'bucket' : ib.dub( df['Treatment bucket'] ),\n",
    "#             'endeavor' : ib.dub( df['Endeavor'] ),\n",
    "#             'transform' : 'filter-Stint-40',\n",
    "#             '_dfdigest' : dfdigest,\n",
    "#         },\n",
    "#         **make_outattr_metadata(),\n",
    "#     },\n",
    "# )\n"
   ]
  },
  {
   "cell_type": "code",
   "execution_count": null,
   "metadata": {},
   "outputs": [],
   "source": [
    "# groupby_Series_mean_df = df.groupby('Series').mean()\n",
    "# tp.tee(\n",
    "#     sns.regplot,\n",
    "#     data=groupby_Series_mean_df,\n",
    "#     x='Phenotype Complexity',\n",
    "#     y='Fraction Inter-Strain Competitions Won',\n",
    "#     teeplot_outattrs={\n",
    "#         **{\n",
    "#             'bucket' : ib.dub( df['Treatment bucket'] ),\n",
    "#             'endeavor' : ib.dub( df['Endeavor'] ),\n",
    "#             'transform' : 'groupby-Series-mean',\n",
    "#             '_dfdigest' : dfdigest,\n",
    "#         },\n",
    "#         **make_outattr_metadata(),\n",
    "#     },\n",
    "# )\n",
    "# stats.pearsonr(\n",
    "#     df.groupby('Series')['Phenotype Complexity'].mean(),\n",
    "#     df.groupby('Series')['Fraction Inter-Strain Competitions Won'].mean(),\n",
    "# )\n"
   ]
  },
  {
   "cell_type": "markdown",
   "metadata": {},
   "source": [
    "# how do fitness and fitness complexity relate?\n"
   ]
  },
  {
   "cell_type": "code",
   "execution_count": null,
   "metadata": {},
   "outputs": [],
   "source": [
    "# tp.tee(\n",
    "#     sns.regplot,\n",
    "#     data=df40,\n",
    "#     x='Fitness Complexity',\n",
    "#     y='Fraction Inter-Strain Competitions Won',\n",
    "#     teeplot_outattrs={\n",
    "#         **{\n",
    "#             'bucket' : ib.dub( df['Treatment bucket'] ),\n",
    "#             'endeavor' : ib.dub( df['Endeavor'] ),\n",
    "#             'transform' : 'filter-Stint-40',\n",
    "#             '_dfdigest' : dfdigest,\n",
    "#         },\n",
    "#         **make_outattr_metadata(),\n",
    "#     },\n",
    "# )\n"
   ]
  },
  {
   "cell_type": "code",
   "execution_count": null,
   "metadata": {},
   "outputs": [],
   "source": [
    "# groupby_Series_mean_df = df.groupby('Series').mean()\n",
    "# tp.tee(\n",
    "#     sns.regplot,\n",
    "#     data=groupby_Series_mean_df,\n",
    "#     x='Fitness Complexity',\n",
    "#     y='Fraction Inter-Strain Competitions Won',\n",
    "#     teeplot_outattrs={\n",
    "#         **{\n",
    "#             'bucket' : ib.dub( df['Treatment bucket'] ),\n",
    "#             'endeavor' : ib.dub( df['Endeavor'] ),\n",
    "#             'transform' : 'groupby-Series-mean',\n",
    "#             '_dfdigest' : dfdigest,\n",
    "#         },\n",
    "#         **make_outattr_metadata(),\n",
    "#     },\n",
    "# )\n",
    "# stats.pearsonr(\n",
    "#     df.groupby('Series')['Fitness Complexity'].mean(),\n",
    "#     df.groupby('Series')['Fraction Inter-Strain Competitions Won'].mean(),\n",
    "# )\n"
   ]
  }
 ],
 "metadata": {
  "kernelspec": {
   "display_name": "Python 3",
   "language": "python",
   "name": "python3"
  },
  "language_info": {
   "codemirror_mode": {
    "name": "ipython",
    "version": 3
   },
   "file_extension": ".py",
   "mimetype": "text/x-python",
   "name": "python",
   "nbconvert_exporter": "python",
   "pygments_lexer": "ipython3",
   "version": "3.8.5"
  }
 },
 "nbformat": 4,
 "nbformat_minor": 4
}

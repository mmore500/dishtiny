{
 "cells": [
  {
   "cell_type": "code",
   "execution_count": 1,
   "metadata": {},
   "outputs": [],
   "source": [
    "import boto3\n",
    "from iterdub import iterdub as ib\n",
    "import matplotlib.pyplot as plt\n",
    "import pandas as pd\n",
    "from pandas.util import hash_pandas_object\n",
    "from scipy import stats\n",
    "import seaborn as sns"
   ]
  },
  {
   "cell_type": "code",
   "execution_count": 2,
   "metadata": {},
   "outputs": [],
   "source": [
    "from dishpylib.pyanalysis import tee_plot"
   ]
  },
  {
   "cell_type": "markdown",
   "metadata": {},
   "source": [
    "# get data"
   ]
  },
  {
   "cell_type": "code",
   "execution_count": 3,
   "metadata": {},
   "outputs": [],
   "source": [
    "s3_handle = boto3.resource('s3')\n",
    "bucket_handle = s3_handle.Bucket('prq49')\n",
    "\n",
    "series_profiles, = bucket_handle.objects.filter(\n",
    "    Prefix=f'endeavor=16/stage=8+what=elaborated/',\n",
    ")"
   ]
  },
  {
   "cell_type": "code",
   "execution_count": 4,
   "metadata": {},
   "outputs": [
    {
     "data": {
      "text/plain": [
       "'581a93929506b064'"
      ]
     },
     "execution_count": 4,
     "metadata": {},
     "output_type": "execute_result"
    }
   ],
   "source": [
    "df = pd.read_csv(\n",
    "    f's3://prq49/{series_profiles.key}',\n",
    "    compression='xz',\n",
    ")\n",
    "dfdigest = '{:x}'.format( hash_pandas_object( df ).sum() )\n",
    "dfdigest"
   ]
  },
  {
   "cell_type": "code",
   "execution_count": 5,
   "metadata": {},
   "outputs": [],
   "source": [
    "for stint in df['Stint'].unique():\n",
    "    exec(f'df{stint} = df[ df[\"Stint\"] == {stint} ]')"
   ]
  },
  {
   "cell_type": "markdown",
   "metadata": {},
   "source": [
    "# how do fitness and phenotypic complexity relate?"
   ]
  },
  {
   "cell_type": "code",
   "execution_count": 6,
   "metadata": {},
   "outputs": [],
   "source": [
    "# tee_plot(\n",
    "#     sns.regplot,\n",
    "#     data=df40,\n",
    "#     x='Phenotype Complexity',\n",
    "#     y='Fraction Inter-Strain Competitions Won',\n",
    "#     outattrs={\n",
    "#         'bucket' : ib.dub( df['Treatment bucket'] ),\n",
    "#         'endeavor' : ib.dub( df['Endeavor'] ),\n",
    "#         'transform' : 'filter-Stint-40',\n",
    "#         '_dfdigest' : dfdigest,\n",
    "#     },\n",
    "# )"
   ]
  },
  {
   "cell_type": "code",
   "execution_count": 7,
   "metadata": {},
   "outputs": [],
   "source": [
    "# groupby_Series_mean_df = df.groupby('Series').mean()\n",
    "# tee_plot(\n",
    "#     sns.regplot,\n",
    "#     data=groupby_Series_mean_df,\n",
    "#     x='Phenotype Complexity',\n",
    "#     y='Fraction Inter-Strain Competitions Won',\n",
    "#     outattrs={\n",
    "#         'bucket' : ib.dub( df['Treatment bucket'] ),\n",
    "#         'endeavor' : ib.dub( df['Endeavor'] ),\n",
    "#         'transform' : 'groupby-Series-mean',\n",
    "#         '_dfdigest' : dfdigest,\n",
    "#     },\n",
    "# )\n",
    "# stats.pearsonr(\n",
    "#     df.groupby('Series')['Phenotype Complexity'].mean(),\n",
    "#     df.groupby('Series')['Fraction Inter-Strain Competitions Won'].mean(),\n",
    "# )"
   ]
  },
  {
   "cell_type": "markdown",
   "metadata": {},
   "source": [
    "# how do fitness and fitness complexity relate?"
   ]
  },
  {
   "cell_type": "code",
   "execution_count": 8,
   "metadata": {},
   "outputs": [],
   "source": [
    "# tee_plot(\n",
    "#     sns.regplot,\n",
    "#     data=df40,\n",
    "#     x='Fitness Complexity',\n",
    "#     y='Fraction Inter-Strain Competitions Won',\n",
    "#     outattrs={\n",
    "#         'bucket' : ib.dub( df['Treatment bucket'] ),\n",
    "#         'endeavor' : ib.dub( df['Endeavor'] ),\n",
    "#         'transform' : 'filter-Stint-40',\n",
    "#         '_dfdigest' : dfdigest,\n",
    "#     },\n",
    "# )"
   ]
  },
  {
   "cell_type": "code",
   "execution_count": 9,
   "metadata": {},
   "outputs": [],
   "source": [
    "# groupby_Series_mean_df = df.groupby('Series').mean()\n",
    "# tee_plot(\n",
    "#     sns.regplot,\n",
    "#     data=groupby_Series_mean_df,\n",
    "#     x='Fitness Complexity',\n",
    "#     y='Fraction Inter-Strain Competitions Won',\n",
    "#     outattrs={\n",
    "#         'bucket' : ib.dub( df['Treatment bucket'] ),\n",
    "#         'endeavor' : ib.dub( df['Endeavor'] ),\n",
    "#         'transform' : 'groupby-Series-mean',\n",
    "#         '_dfdigest' : dfdigest,\n",
    "#     },\n",
    "# )\n",
    "# stats.pearsonr(\n",
    "#     df.groupby('Series')['Fitness Complexity'].mean(),\n",
    "#     df.groupby('Series')['Fraction Inter-Strain Competitions Won'].mean(),\n",
    "# )"
   ]
  }
 ],
 "metadata": {
  "kernelspec": {
   "display_name": "Python 3",
   "language": "python",
   "name": "python3"
  },
  "language_info": {
   "codemirror_mode": {
    "name": "ipython",
    "version": 3
   },
   "file_extension": ".py",
   "mimetype": "text/x-python",
   "name": "python",
   "nbconvert_exporter": "python",
   "pygments_lexer": "ipython3",
   "version": "3.6.5"
  }
 },
 "nbformat": 4,
 "nbformat_minor": 4
}

{
 "cells": [
  {
   "cell_type": "code",
   "execution_count": 1,
   "metadata": {},
   "outputs": [],
   "source": [
    "import boto3\n",
    "import botocore\n",
    "from iterdub import iterdub as ib\n",
    "import matplotlib.pyplot as plt\n",
    "import pandas as pd\n",
    "from pandas.util import hash_pandas_object\n",
    "from scipy import stats\n",
    "import seaborn as sns\n",
    "from teeplot import teeplot as tp\n"
   ]
  },
  {
   "cell_type": "code",
   "execution_count": 2,
   "metadata": {},
   "outputs": [],
   "source": [
    "from dishpylib.pyhelpers import make_outattr_metadata\n",
    "from dishpylib.pyhelpers import print_runtime\n"
   ]
  },
  {
   "cell_type": "code",
   "execution_count": 3,
   "metadata": {},
   "outputs": [
    {
     "name": "stdout",
     "output_type": "stream",
     "text": [
      "context: ci\n",
      "hostname: 6e6f8264fb81\n",
      "interpreter: 3.8.12 (default, Sep 10 2021, 00:16:05)  [GCC 7.5.0]\n",
      "notebook name: x=fitness_complexity-phenotypic_complexity\n",
      "notebook path: /opt/dishtiny/binder/bucket=prq49/a=all_stints_all_series_profiles+endeavor=16/x=fitness_complexity-phenotypic_complexity.ipynb\n",
      "revision: 4e6873e4d\n",
      "timestamp: 2021-10-03T23:03:29Z00:00\n",
      "\n",
      "IPython==7.16.1\n",
      "packaging==20.9\n"
     ]
    },
    {
     "name": "stderr",
     "output_type": "stream",
     "text": [
      "<ipython-input-3-4d790cf6450f>:1: DeprecatedWarning: print_runtime is deprecated. use nbmetalog package instead\n",
      "  print_runtime()\n"
     ]
    }
   ],
   "source": [
    "print_runtime()\n"
   ]
  },
  {
   "cell_type": "markdown",
   "metadata": {},
   "source": [
    "# get data\n"
   ]
  },
  {
   "cell_type": "code",
   "execution_count": 4,
   "metadata": {},
   "outputs": [],
   "source": [
    "s3_handle = boto3.resource(\n",
    "    's3',\n",
    "    region_name=\"us-east-2\",\n",
    "    config=botocore.config.Config(\n",
    "        signature_version=botocore.UNSIGNED,\n",
    "    ),\n",
    ")\n",
    "bucket_handle = s3_handle.Bucket('prq49')\n",
    "\n",
    "series_profiles, = bucket_handle.objects.filter(\n",
    "    Prefix=f'endeavor=16/series-profiles/stage=8+what=elaborated/',\n",
    ")\n"
   ]
  },
  {
   "cell_type": "code",
   "execution_count": 5,
   "metadata": {},
   "outputs": [
    {
     "name": "stderr",
     "output_type": "stream",
     "text": [
      "/usr/local/lib/python3.8/dist-packages/IPython/core/interactiveshell.py:3071: DtypeWarning: Columns (2270,2277,2284,2285,2286,2287,2289,2290,2291,2292,2298,2299,2300,2301,2302,2308,2309,2310) have mixed types.Specify dtype option on import or set low_memory=False.\n",
      "  has_raised = await self.run_ast_nodes(code_ast.body, cell_name,\n"
     ]
    },
    {
     "data": {
      "text/plain": [
       "'-4b8e8f9e4d8ca984'"
      ]
     },
     "execution_count": 5,
     "metadata": {},
     "output_type": "execute_result"
    }
   ],
   "source": [
    "df = pd.read_csv(\n",
    "    f's3://prq49/{series_profiles.key}',\n",
    "    compression='xz',\n",
    ")\n",
    "dfdigest = '{:x}'.format( hash_pandas_object( df ).sum() )\n",
    "dfdigest\n"
   ]
  },
  {
   "cell_type": "code",
   "execution_count": 6,
   "metadata": {},
   "outputs": [],
   "source": [
    "for stint in df['Stint'].unique():\n",
    "    exec(f'df{stint} = df[ df[\"Stint\"] == {stint} ]')\n"
   ]
  },
  {
   "cell_type": "code",
   "execution_count": 7,
   "metadata": {},
   "outputs": [],
   "source": [
    "dfm10 = df[ df['Stint'] % 10 == 0 ]\n"
   ]
  },
  {
   "cell_type": "markdown",
   "metadata": {},
   "source": [
    "# how do fitness complexity and phenotypic complexity relate?\n"
   ]
  },
  {
   "cell_type": "code",
   "execution_count": 8,
   "metadata": {},
   "outputs": [
    {
     "name": "stderr",
     "output_type": "stream",
     "text": [
      "<ipython-input-8-c17e18438a3d>:13: DeprecatedWarning: make_outattr_metadata is deprecated. use nbmetalog package instead\n",
      "  **make_outattr_metadata(),\n"
     ]
    },
    {
     "name": "stdout",
     "output_type": "stream",
     "text": [
      "teeplots/bucket=prq49+endeavor=16+transform=identity+viz=regplot+x=phenotype-complexity+y=fitness-complexity+ext=.pdf\n",
      "teeplots/bucket=prq49+endeavor=16+transform=identity+viz=regplot+x=phenotype-complexity+y=fitness-complexity+ext=.png\n"
     ]
    },
    {
     "data": {
      "text/plain": [
       "<AxesSubplot:xlabel='Phenotype Complexity', ylabel='Fitness Complexity'>"
      ]
     },
     "execution_count": 8,
     "metadata": {},
     "output_type": "execute_result"
    },
    {
     "data": {
      "image/png": "[encoded data removed]",
      "text/plain": [
       "<Figure size 432x288 with 1 Axes>"
      ]
     },
     "metadata": {
      "needs_background": "light"
     },
     "output_type": "display_data"
    }
   ],
   "source": [
    "tp.tee(\n",
    "    sns.regplot,\n",
    "    data=df,\n",
    "    x='Phenotype Complexity',\n",
    "    y='Fitness Complexity',\n",
    "    teeplot_outattrs={\n",
    "        **{\n",
    "            'bucket' : ib.dub( df['Bucket'] ),\n",
    "            'endeavor' : ib.dub( df['Endeavor'].astype(int) ),\n",
    "            'transform' : 'identity',\n",
    "            '_dfdigest' : dfdigest,\n",
    "        },\n",
    "        **make_outattr_metadata(),\n",
    "    },\n",
    ")\n"
   ]
  },
  {
   "cell_type": "code",
   "execution_count": 9,
   "metadata": {},
   "outputs": [
    {
     "name": "stderr",
     "output_type": "stream",
     "text": [
      "<ipython-input-9-324f11a3a999>:13: DeprecatedWarning: make_outattr_metadata is deprecated. use nbmetalog package instead\n",
      "  **make_outattr_metadata(),\n"
     ]
    },
    {
     "name": "stdout",
     "output_type": "stream",
     "text": [
      "teeplots/bucket=prq49+endeavor=16+transform=filter-Stint-40+viz=regplot+x=phenotype-complexity+y=fitness-complexity+ext=.pdf\n",
      "teeplots/bucket=prq49+endeavor=16+transform=filter-Stint-40+viz=regplot+x=phenotype-complexity+y=fitness-complexity+ext=.png\n"
     ]
    },
    {
     "data": {
      "text/plain": [
       "(0.3737262697566279, 0.01752546549427534)"
      ]
     },
     "execution_count": 9,
     "metadata": {},
     "output_type": "execute_result"
    },
    {
     "data": {
      "image/png": "[encoded data removed]",
      "text/plain": [
       "<Figure size 432x288 with 1 Axes>"
      ]
     },
     "metadata": {
      "needs_background": "light"
     },
     "output_type": "display_data"
    }
   ],
   "source": [
    "tp.tee(\n",
    "    sns.regplot,\n",
    "    data=df40,\n",
    "    x='Phenotype Complexity',\n",
    "    y='Fitness Complexity',\n",
    "    teeplot_outattrs={\n",
    "        **{\n",
    "            'bucket' : ib.dub( df['Bucket'] ),\n",
    "            'endeavor' : ib.dub( df['Endeavor'].astype(int) ),\n",
    "            'transform' : 'filter-Stint-40',\n",
    "            '_dfdigest' : dfdigest,\n",
    "        },\n",
    "        **make_outattr_metadata(),\n",
    "    },\n",
    ")\n",
    "\n",
    "fil = df40.dropna(\n",
    "    subset=[\n",
    "        'Phenotype Complexity',\n",
    "        'Fitness Complexity',\n",
    "    ],\n",
    ")\n",
    "stats.pearsonr(\n",
    "    fil['Phenotype Complexity'],\n",
    "    fil['Fitness Complexity'],\n",
    ")\n"
   ]
  },
  {
   "cell_type": "code",
   "execution_count": 10,
   "metadata": {},
   "outputs": [
    {
     "name": "stderr",
     "output_type": "stream",
     "text": [
      "<ipython-input-10-5d311bf42a3e>:13: DeprecatedWarning: make_outattr_metadata is deprecated. use nbmetalog package instead\n",
      "  **make_outattr_metadata(),\n"
     ]
    },
    {
     "name": "stdout",
     "output_type": "stream",
     "text": [
      "teeplots/bucket=prq49+endeavor=16+transform=groupby-Series-mean+viz=regplot+x=phenotype-complexity+y=fitness-complexity+ext=.pdf\n",
      "teeplots/bucket=prq49+endeavor=16+transform=groupby-Series-mean+viz=regplot+x=phenotype-complexity+y=fitness-complexity+ext=.png\n"
     ]
    },
    {
     "data": {
      "text/plain": [
       "(-0.10624728477449845, 0.5140724473031709)"
      ]
     },
     "execution_count": 10,
     "metadata": {},
     "output_type": "execute_result"
    },
    {
     "data": {
      "image/png": "[encoded data removed]",
      "text/plain": [
       "<Figure size 432x288 with 1 Axes>"
      ]
     },
     "metadata": {
      "needs_background": "light"
     },
     "output_type": "display_data"
    }
   ],
   "source": [
    "tp.tee(\n",
    "    sns.regplot,\n",
    "    data=df.groupby('Series').mean(),\n",
    "    x='Phenotype Complexity',\n",
    "    y='Fitness Complexity',\n",
    "    teeplot_outattrs={\n",
    "        **{\n",
    "            'bucket' : ib.dub( df['Bucket'] ),\n",
    "            'endeavor' : ib.dub( df['Endeavor'].astype(int) ),\n",
    "            'transform' : 'groupby-Series-mean',\n",
    "            '_dfdigest' : dfdigest,\n",
    "        },\n",
    "        **make_outattr_metadata(),\n",
    "    },\n",
    ")\n",
    "\n",
    "stats.pearsonr(\n",
    "    df.groupby('Series')['Phenotype Complexity'].mean(),\n",
    "    df.groupby('Series')['Fitness Complexity'].mean(),\n",
    ")\n"
   ]
  }
 ],
 "metadata": {
  "kernelspec": {
   "display_name": "Python 3",
   "language": "python",
   "name": "python3"
  },
  "language_info": {
   "codemirror_mode": {
    "name": "ipython",
    "version": 3
   },
   "file_extension": ".py",
   "mimetype": "text/x-python",
   "name": "python",
   "nbconvert_exporter": "python",
   "pygments_lexer": "ipython3",
   "version": "3.8.12"
  }
 },
 "nbformat": 4,
 "nbformat_minor": 4
}
